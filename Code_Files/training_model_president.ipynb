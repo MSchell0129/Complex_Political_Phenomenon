{
 "cells": [
  {
   "cell_type": "code",
   "execution_count": 1,
   "metadata": {},
   "outputs": [],
   "source": [
    "# Import our dependencies\n",
    "from sklearn.model_selection import train_test_split\n",
    "from sklearn.preprocessing import StandardScaler\n",
    "from sklearn.metrics import confusion_matrix, accuracy_score, classification_report\n",
    "import pandas as pd\n",
    "import numpy as np\n",
    "import tensorflow as tf\n",
    "import keras_tuner as kt\n",
    "import keras as kr\n"
   ]
  },
  {
   "cell_type": "code",
   "execution_count": 7,
   "metadata": {},
   "outputs": [
    {
     "data": {
      "text/html": [
       "<div>\n",
       "<style scoped>\n",
       "    .dataframe tbody tr th:only-of-type {\n",
       "        vertical-align: middle;\n",
       "    }\n",
       "\n",
       "    .dataframe tbody tr th {\n",
       "        vertical-align: top;\n",
       "    }\n",
       "\n",
       "    .dataframe thead th {\n",
       "        text-align: right;\n",
       "    }\n",
       "</style>\n",
       "<table border=\"1\" class=\"dataframe\">\n",
       "  <thead>\n",
       "    <tr style=\"text-align: right;\">\n",
       "      <th></th>\n",
       "      <th>question_id</th>\n",
       "      <th>end_date</th>\n",
       "      <th>pollster</th>\n",
       "      <th>sample_size</th>\n",
       "      <th>population</th>\n",
       "      <th>politician</th>\n",
       "      <th>favorable</th>\n",
       "      <th>unfavorable</th>\n",
       "      <th>very_favorable</th>\n",
       "      <th>somewhat_favorable</th>\n",
       "      <th>somewhat_unfavorable</th>\n",
       "      <th>very_unfavorable</th>\n",
       "      <th>results</th>\n",
       "    </tr>\n",
       "  </thead>\n",
       "  <tbody>\n",
       "    <tr>\n",
       "      <th>0</th>\n",
       "      <td>114581</td>\n",
       "      <td>2019-12-10</td>\n",
       "      <td>YouGov</td>\n",
       "      <td>1204</td>\n",
       "      <td>rv</td>\n",
       "      <td>Joseph R. Biden Jr.</td>\n",
       "      <td>42.0</td>\n",
       "      <td>52.0</td>\n",
       "      <td>20.0</td>\n",
       "      <td>22.0</td>\n",
       "      <td>14.0</td>\n",
       "      <td>38.0</td>\n",
       "      <td>1</td>\n",
       "    </tr>\n",
       "    <tr>\n",
       "      <th>1</th>\n",
       "      <td>114524</td>\n",
       "      <td>2019-12-09</td>\n",
       "      <td>Quinnipiac University</td>\n",
       "      <td>1553</td>\n",
       "      <td>rv</td>\n",
       "      <td>Joseph R. Biden Jr.</td>\n",
       "      <td>44.0</td>\n",
       "      <td>47.0</td>\n",
       "      <td>0.0</td>\n",
       "      <td>0.0</td>\n",
       "      <td>0.0</td>\n",
       "      <td>0.0</td>\n",
       "      <td>1</td>\n",
       "    </tr>\n",
       "    <tr>\n",
       "      <th>2</th>\n",
       "      <td>114382</td>\n",
       "      <td>2019-12-08</td>\n",
       "      <td>Monmouth University</td>\n",
       "      <td>838</td>\n",
       "      <td>rv</td>\n",
       "      <td>Joseph R. Biden Jr.</td>\n",
       "      <td>43.0</td>\n",
       "      <td>50.0</td>\n",
       "      <td>18.0</td>\n",
       "      <td>25.0</td>\n",
       "      <td>16.0</td>\n",
       "      <td>34.0</td>\n",
       "      <td>1</td>\n",
       "    </tr>\n",
       "    <tr>\n",
       "      <th>3</th>\n",
       "      <td>114188</td>\n",
       "      <td>2019-12-03</td>\n",
       "      <td>YouGov</td>\n",
       "      <td>1198</td>\n",
       "      <td>rv</td>\n",
       "      <td>Joseph R. Biden Jr.</td>\n",
       "      <td>42.0</td>\n",
       "      <td>51.0</td>\n",
       "      <td>20.0</td>\n",
       "      <td>22.0</td>\n",
       "      <td>14.0</td>\n",
       "      <td>37.0</td>\n",
       "      <td>1</td>\n",
       "    </tr>\n",
       "    <tr>\n",
       "      <th>4</th>\n",
       "      <td>114336</td>\n",
       "      <td>2019-11-29</td>\n",
       "      <td>Harris Poll</td>\n",
       "      <td>1859</td>\n",
       "      <td>rv</td>\n",
       "      <td>Joseph R. Biden Jr.</td>\n",
       "      <td>44.0</td>\n",
       "      <td>44.0</td>\n",
       "      <td>15.0</td>\n",
       "      <td>29.0</td>\n",
       "      <td>19.0</td>\n",
       "      <td>25.0</td>\n",
       "      <td>1</td>\n",
       "    </tr>\n",
       "  </tbody>\n",
       "</table>\n",
       "</div>"
      ],
      "text/plain": [
       "   question_id    end_date               pollster  sample_size population  \\\n",
       "0       114581  2019-12-10                 YouGov         1204         rv   \n",
       "1       114524  2019-12-09  Quinnipiac University         1553         rv   \n",
       "2       114382  2019-12-08    Monmouth University          838         rv   \n",
       "3       114188  2019-12-03                 YouGov         1198         rv   \n",
       "4       114336  2019-11-29            Harris Poll         1859         rv   \n",
       "\n",
       "            politician  favorable  unfavorable  very_favorable  \\\n",
       "0  Joseph R. Biden Jr.       42.0         52.0            20.0   \n",
       "1  Joseph R. Biden Jr.       44.0         47.0             0.0   \n",
       "2  Joseph R. Biden Jr.       43.0         50.0            18.0   \n",
       "3  Joseph R. Biden Jr.       42.0         51.0            20.0   \n",
       "4  Joseph R. Biden Jr.       44.0         44.0            15.0   \n",
       "\n",
       "   somewhat_favorable  somewhat_unfavorable  very_unfavorable  results  \n",
       "0                22.0                  14.0              38.0        1  \n",
       "1                 0.0                   0.0               0.0        1  \n",
       "2                25.0                  16.0              34.0        1  \n",
       "3                22.0                  14.0              37.0        1  \n",
       "4                29.0                  19.0              25.0        1  "
      ]
     },
     "execution_count": 7,
     "metadata": {},
     "output_type": "execute_result"
    }
   ],
   "source": [
    "biden_v_trump = pd.read_csv('../election_resources/biden_v_trump.csv')\n",
    "biden_v_trump.head()"
   ]
  },
  {
   "cell_type": "code",
   "execution_count": 9,
   "metadata": {},
   "outputs": [
    {
     "data": {
      "text/html": [
       "<div>\n",
       "<style scoped>\n",
       "    .dataframe tbody tr th:only-of-type {\n",
       "        vertical-align: middle;\n",
       "    }\n",
       "\n",
       "    .dataframe tbody tr th {\n",
       "        vertical-align: top;\n",
       "    }\n",
       "\n",
       "    .dataframe thead th {\n",
       "        text-align: right;\n",
       "    }\n",
       "</style>\n",
       "<table border=\"1\" class=\"dataframe\">\n",
       "  <thead>\n",
       "    <tr style=\"text-align: right;\">\n",
       "      <th></th>\n",
       "      <th>question_id</th>\n",
       "      <th>end_date</th>\n",
       "      <th>pollster</th>\n",
       "      <th>sample_size</th>\n",
       "      <th>population</th>\n",
       "      <th>politician</th>\n",
       "      <th>favorable</th>\n",
       "      <th>unfavorable</th>\n",
       "      <th>very_favorable</th>\n",
       "      <th>somewhat_favorable</th>\n",
       "      <th>somewhat_unfavorable</th>\n",
       "      <th>very_unfavorable</th>\n",
       "      <th>results</th>\n",
       "      <th>favorability</th>\n",
       "    </tr>\n",
       "  </thead>\n",
       "  <tbody>\n",
       "    <tr>\n",
       "      <th>0</th>\n",
       "      <td>114581</td>\n",
       "      <td>2019-12-10</td>\n",
       "      <td>YouGov</td>\n",
       "      <td>1204</td>\n",
       "      <td>rv</td>\n",
       "      <td>Joseph R. Biden Jr.</td>\n",
       "      <td>42.0</td>\n",
       "      <td>52.0</td>\n",
       "      <td>20.0</td>\n",
       "      <td>22.0</td>\n",
       "      <td>14.0</td>\n",
       "      <td>38.0</td>\n",
       "      <td>1</td>\n",
       "      <td>-22.0006</td>\n",
       "    </tr>\n",
       "    <tr>\n",
       "      <th>1</th>\n",
       "      <td>114524</td>\n",
       "      <td>2019-12-09</td>\n",
       "      <td>Quinnipiac University</td>\n",
       "      <td>1553</td>\n",
       "      <td>rv</td>\n",
       "      <td>Joseph R. Biden Jr.</td>\n",
       "      <td>44.0</td>\n",
       "      <td>47.0</td>\n",
       "      <td>0.0</td>\n",
       "      <td>0.0</td>\n",
       "      <td>0.0</td>\n",
       "      <td>0.0</td>\n",
       "      <td>1</td>\n",
       "      <td>-2.0001</td>\n",
       "    </tr>\n",
       "    <tr>\n",
       "      <th>2</th>\n",
       "      <td>114382</td>\n",
       "      <td>2019-12-08</td>\n",
       "      <td>Monmouth University</td>\n",
       "      <td>838</td>\n",
       "      <td>rv</td>\n",
       "      <td>Joseph R. Biden Jr.</td>\n",
       "      <td>43.0</td>\n",
       "      <td>50.0</td>\n",
       "      <td>18.0</td>\n",
       "      <td>25.0</td>\n",
       "      <td>16.0</td>\n",
       "      <td>34.0</td>\n",
       "      <td>1</td>\n",
       "      <td>-17.6672</td>\n",
       "    </tr>\n",
       "    <tr>\n",
       "      <th>3</th>\n",
       "      <td>114188</td>\n",
       "      <td>2019-12-03</td>\n",
       "      <td>YouGov</td>\n",
       "      <td>1198</td>\n",
       "      <td>rv</td>\n",
       "      <td>Joseph R. Biden Jr.</td>\n",
       "      <td>42.0</td>\n",
       "      <td>51.0</td>\n",
       "      <td>20.0</td>\n",
       "      <td>22.0</td>\n",
       "      <td>14.0</td>\n",
       "      <td>37.0</td>\n",
       "      <td>1</td>\n",
       "      <td>-20.3339</td>\n",
       "    </tr>\n",
       "    <tr>\n",
       "      <th>4</th>\n",
       "      <td>114336</td>\n",
       "      <td>2019-11-29</td>\n",
       "      <td>Harris Poll</td>\n",
       "      <td>1859</td>\n",
       "      <td>rv</td>\n",
       "      <td>Joseph R. Biden Jr.</td>\n",
       "      <td>44.0</td>\n",
       "      <td>44.0</td>\n",
       "      <td>15.0</td>\n",
       "      <td>29.0</td>\n",
       "      <td>19.0</td>\n",
       "      <td>25.0</td>\n",
       "      <td>1</td>\n",
       "      <td>-6.6670</td>\n",
       "    </tr>\n",
       "  </tbody>\n",
       "</table>\n",
       "</div>"
      ],
      "text/plain": [
       "   question_id    end_date               pollster  sample_size population  \\\n",
       "0       114581  2019-12-10                 YouGov         1204         rv   \n",
       "1       114524  2019-12-09  Quinnipiac University         1553         rv   \n",
       "2       114382  2019-12-08    Monmouth University          838         rv   \n",
       "3       114188  2019-12-03                 YouGov         1198         rv   \n",
       "4       114336  2019-11-29            Harris Poll         1859         rv   \n",
       "\n",
       "            politician  favorable  unfavorable  very_favorable  \\\n",
       "0  Joseph R. Biden Jr.       42.0         52.0            20.0   \n",
       "1  Joseph R. Biden Jr.       44.0         47.0             0.0   \n",
       "2  Joseph R. Biden Jr.       43.0         50.0            18.0   \n",
       "3  Joseph R. Biden Jr.       42.0         51.0            20.0   \n",
       "4  Joseph R. Biden Jr.       44.0         44.0            15.0   \n",
       "\n",
       "   somewhat_favorable  somewhat_unfavorable  very_unfavorable  results  \\\n",
       "0                22.0                  14.0              38.0        1   \n",
       "1                 0.0                   0.0               0.0        1   \n",
       "2                25.0                  16.0              34.0        1   \n",
       "3                22.0                  14.0              37.0        1   \n",
       "4                29.0                  19.0              25.0        1   \n",
       "\n",
       "   favorability  \n",
       "0      -22.0006  \n",
       "1       -2.0001  \n",
       "2      -17.6672  \n",
       "3      -20.3339  \n",
       "4       -6.6670  "
      ]
     },
     "execution_count": 9,
     "metadata": {},
     "output_type": "execute_result"
    }
   ],
   "source": [
    "biden_v_trump.head()"
   ]
  },
  {
   "cell_type": "code",
   "execution_count": 10,
   "metadata": {},
   "outputs": [
    {
     "data": {
      "text/plain": [
       "Index(['question_id', 'end_date', 'pollster', 'sample_size', 'population',\n",
       "       'politician', 'favorable', 'unfavorable', 'very_favorable',\n",
       "       'somewhat_favorable', 'somewhat_unfavorable', 'very_unfavorable',\n",
       "       'results', 'favorability'],\n",
       "      dtype='object')"
      ]
     },
     "execution_count": 10,
     "metadata": {},
     "output_type": "execute_result"
    }
   ],
   "source": [
    "biden_v_trump.columns"
   ]
  },
  {
   "cell_type": "code",
   "execution_count": 4,
   "metadata": {},
   "outputs": [
    {
     "data": {
      "text/plain": [
       "pollster                 13\n",
       "sample_size             112\n",
       "population                1\n",
       "politician                2\n",
       "favorable                21\n",
       "unfavorable              30\n",
       "very_favorable           25\n",
       "somewhat_favorable       26\n",
       "somewhat_unfavorable     21\n",
       "very_unfavorable         35\n",
       "results                   2\n",
       "dtype: int64"
      ]
     },
     "execution_count": 4,
     "metadata": {},
     "output_type": "execute_result"
    }
   ],
   "source": [
    "biden_v_trump.nunique()"
   ]
  },
  {
   "cell_type": "code",
   "execution_count": 7,
   "metadata": {},
   "outputs": [
    {
     "data": {
      "text/html": [
       "<div>\n",
       "<style scoped>\n",
       "    .dataframe tbody tr th:only-of-type {\n",
       "        vertical-align: middle;\n",
       "    }\n",
       "\n",
       "    .dataframe tbody tr th {\n",
       "        vertical-align: top;\n",
       "    }\n",
       "\n",
       "    .dataframe thead th {\n",
       "        text-align: right;\n",
       "    }\n",
       "</style>\n",
       "<table border=\"1\" class=\"dataframe\">\n",
       "  <thead>\n",
       "    <tr style=\"text-align: right;\">\n",
       "      <th></th>\n",
       "      <th>sample_size</th>\n",
       "      <th>favorable</th>\n",
       "      <th>unfavorable</th>\n",
       "      <th>very_favorable</th>\n",
       "      <th>somewhat_favorable</th>\n",
       "      <th>somewhat_unfavorable</th>\n",
       "      <th>very_unfavorable</th>\n",
       "      <th>results</th>\n",
       "      <th>biden_score</th>\n",
       "      <th>trump_score</th>\n",
       "      <th>...</th>\n",
       "      <th>pollster_Monmouth University</th>\n",
       "      <th>pollster_Morning Consult</th>\n",
       "      <th>pollster_NBC News/Wall Street Journal</th>\n",
       "      <th>pollster_Public Policy Polling</th>\n",
       "      <th>pollster_Quinnipiac University</th>\n",
       "      <th>pollster_Suffolk University</th>\n",
       "      <th>pollster_YouGov</th>\n",
       "      <th>population_rv</th>\n",
       "      <th>politician_Donald Trump</th>\n",
       "      <th>politician_Joseph R. Biden Jr.</th>\n",
       "    </tr>\n",
       "  </thead>\n",
       "  <tbody>\n",
       "    <tr>\n",
       "      <th>0</th>\n",
       "      <td>1204</td>\n",
       "      <td>28.0014</td>\n",
       "      <td>-34.6684</td>\n",
       "      <td>20.0</td>\n",
       "      <td>7.3326</td>\n",
       "      <td>-4.6662</td>\n",
       "      <td>-38.0</td>\n",
       "      <td>1</td>\n",
       "      <td>-22.0006</td>\n",
       "      <td>-22.0006</td>\n",
       "      <td>...</td>\n",
       "      <td>0.0</td>\n",
       "      <td>0.0</td>\n",
       "      <td>0.0</td>\n",
       "      <td>0.0</td>\n",
       "      <td>0.0</td>\n",
       "      <td>0.0</td>\n",
       "      <td>1.0</td>\n",
       "      <td>1.0</td>\n",
       "      <td>0.0</td>\n",
       "      <td>1.0</td>\n",
       "    </tr>\n",
       "    <tr>\n",
       "      <th>1</th>\n",
       "      <td>1553</td>\n",
       "      <td>29.3348</td>\n",
       "      <td>-31.3349</td>\n",
       "      <td>0.0</td>\n",
       "      <td>0.0000</td>\n",
       "      <td>-0.0000</td>\n",
       "      <td>-0.0</td>\n",
       "      <td>1</td>\n",
       "      <td>-2.0001</td>\n",
       "      <td>-2.0001</td>\n",
       "      <td>...</td>\n",
       "      <td>0.0</td>\n",
       "      <td>0.0</td>\n",
       "      <td>0.0</td>\n",
       "      <td>0.0</td>\n",
       "      <td>1.0</td>\n",
       "      <td>0.0</td>\n",
       "      <td>0.0</td>\n",
       "      <td>1.0</td>\n",
       "      <td>0.0</td>\n",
       "      <td>1.0</td>\n",
       "    </tr>\n",
       "    <tr>\n",
       "      <th>2</th>\n",
       "      <td>838</td>\n",
       "      <td>28.6681</td>\n",
       "      <td>-33.3350</td>\n",
       "      <td>18.0</td>\n",
       "      <td>8.3325</td>\n",
       "      <td>-5.3328</td>\n",
       "      <td>-34.0</td>\n",
       "      <td>1</td>\n",
       "      <td>-17.6672</td>\n",
       "      <td>-17.6672</td>\n",
       "      <td>...</td>\n",
       "      <td>1.0</td>\n",
       "      <td>0.0</td>\n",
       "      <td>0.0</td>\n",
       "      <td>0.0</td>\n",
       "      <td>0.0</td>\n",
       "      <td>0.0</td>\n",
       "      <td>0.0</td>\n",
       "      <td>1.0</td>\n",
       "      <td>0.0</td>\n",
       "      <td>1.0</td>\n",
       "    </tr>\n",
       "    <tr>\n",
       "      <th>3</th>\n",
       "      <td>1198</td>\n",
       "      <td>28.0014</td>\n",
       "      <td>-34.0017</td>\n",
       "      <td>20.0</td>\n",
       "      <td>7.3326</td>\n",
       "      <td>-4.6662</td>\n",
       "      <td>-37.0</td>\n",
       "      <td>1</td>\n",
       "      <td>-20.3339</td>\n",
       "      <td>-20.3339</td>\n",
       "      <td>...</td>\n",
       "      <td>0.0</td>\n",
       "      <td>0.0</td>\n",
       "      <td>0.0</td>\n",
       "      <td>0.0</td>\n",
       "      <td>0.0</td>\n",
       "      <td>0.0</td>\n",
       "      <td>1.0</td>\n",
       "      <td>1.0</td>\n",
       "      <td>0.0</td>\n",
       "      <td>1.0</td>\n",
       "    </tr>\n",
       "    <tr>\n",
       "      <th>4</th>\n",
       "      <td>1859</td>\n",
       "      <td>29.3348</td>\n",
       "      <td>-29.3348</td>\n",
       "      <td>15.0</td>\n",
       "      <td>9.6657</td>\n",
       "      <td>-6.3327</td>\n",
       "      <td>-25.0</td>\n",
       "      <td>1</td>\n",
       "      <td>-6.6670</td>\n",
       "      <td>-6.6670</td>\n",
       "      <td>...</td>\n",
       "      <td>0.0</td>\n",
       "      <td>0.0</td>\n",
       "      <td>0.0</td>\n",
       "      <td>0.0</td>\n",
       "      <td>0.0</td>\n",
       "      <td>0.0</td>\n",
       "      <td>0.0</td>\n",
       "      <td>1.0</td>\n",
       "      <td>0.0</td>\n",
       "      <td>1.0</td>\n",
       "    </tr>\n",
       "  </tbody>\n",
       "</table>\n",
       "<p>5 rows × 26 columns</p>\n",
       "</div>"
      ],
      "text/plain": [
       "   sample_size  favorable  unfavorable  very_favorable  somewhat_favorable  \\\n",
       "0         1204    28.0014     -34.6684            20.0              7.3326   \n",
       "1         1553    29.3348     -31.3349             0.0              0.0000   \n",
       "2          838    28.6681     -33.3350            18.0              8.3325   \n",
       "3         1198    28.0014     -34.0017            20.0              7.3326   \n",
       "4         1859    29.3348     -29.3348            15.0              9.6657   \n",
       "\n",
       "   somewhat_unfavorable  very_unfavorable  results  biden_score  trump_score  \\\n",
       "0               -4.6662             -38.0        1     -22.0006     -22.0006   \n",
       "1               -0.0000              -0.0        1      -2.0001      -2.0001   \n",
       "2               -5.3328             -34.0        1     -17.6672     -17.6672   \n",
       "3               -4.6662             -37.0        1     -20.3339     -20.3339   \n",
       "4               -6.3327             -25.0        1      -6.6670      -6.6670   \n",
       "\n",
       "   ...  pollster_Monmouth University  pollster_Morning Consult  \\\n",
       "0  ...                           0.0                       0.0   \n",
       "1  ...                           0.0                       0.0   \n",
       "2  ...                           1.0                       0.0   \n",
       "3  ...                           0.0                       0.0   \n",
       "4  ...                           0.0                       0.0   \n",
       "\n",
       "   pollster_NBC News/Wall Street Journal  pollster_Public Policy Polling  \\\n",
       "0                                    0.0                             0.0   \n",
       "1                                    0.0                             0.0   \n",
       "2                                    0.0                             0.0   \n",
       "3                                    0.0                             0.0   \n",
       "4                                    0.0                             0.0   \n",
       "\n",
       "   pollster_Quinnipiac University  pollster_Suffolk University  \\\n",
       "0                             0.0                          0.0   \n",
       "1                             1.0                          0.0   \n",
       "2                             0.0                          0.0   \n",
       "3                             0.0                          0.0   \n",
       "4                             0.0                          0.0   \n",
       "\n",
       "   pollster_YouGov  population_rv  politician_Donald Trump  \\\n",
       "0              1.0            1.0                      0.0   \n",
       "1              0.0            1.0                      0.0   \n",
       "2              0.0            1.0                      0.0   \n",
       "3              1.0            1.0                      0.0   \n",
       "4              0.0            1.0                      0.0   \n",
       "\n",
       "   politician_Joseph R. Biden Jr.  \n",
       "0                             1.0  \n",
       "1                             1.0  \n",
       "2                             1.0  \n",
       "3                             1.0  \n",
       "4                             1.0  \n",
       "\n",
       "[5 rows x 26 columns]"
      ]
     },
     "execution_count": 7,
     "metadata": {},
     "output_type": "execute_result"
    }
   ],
   "source": [
    "biden_v_trump = pd.get_dummies(biden_v_trump, dtype=float)\n",
    "biden_v_trump.head()"
   ]
  },
  {
   "cell_type": "code",
   "execution_count": 8,
   "metadata": {},
   "outputs": [],
   "source": [
    "biden_v_trump.fillna(0, inplace=True)"
   ]
  },
  {
   "cell_type": "code",
   "execution_count": 9,
   "metadata": {},
   "outputs": [
    {
     "data": {
      "text/plain": [
       "(230, 26)"
      ]
     },
     "execution_count": 9,
     "metadata": {},
     "output_type": "execute_result"
    }
   ],
   "source": [
    "biden_v_trump.shape"
   ]
  },
  {
   "cell_type": "code",
   "execution_count": 10,
   "metadata": {},
   "outputs": [],
   "source": [
    "y = biden_v_trump['results'].values\n",
    "X = biden_v_trump.drop(['results'], axis=1).values\n",
    "X_train, X_test, y_train, y_test = train_test_split(X, y, test_size=0.25, random_state=21)"
   ]
  },
  {
   "cell_type": "code",
   "execution_count": 11,
   "metadata": {},
   "outputs": [],
   "source": [
    "scaler = StandardScaler()\n",
    "X_scaler = scaler.fit(X_train)\n",
    "X_scaled = X_scaler.transform(X_train)\n",
    "X_test_scaled = X_scaler.transform(X_test)"
   ]
  },
  {
   "cell_type": "code",
   "execution_count": 45,
   "metadata": {},
   "outputs": [
    {
     "data": {
      "text/plain": [
       "(172, 25)"
      ]
     },
     "execution_count": 45,
     "metadata": {},
     "output_type": "execute_result"
    }
   ],
   "source": [
    "X_scaled.shape"
   ]
  },
  {
   "cell_type": "code",
   "execution_count": 12,
   "metadata": {},
   "outputs": [],
   "source": [
    "def create_model(hp):\n",
    "    nn_model = tf.keras.models.Sequential()\n",
    "    activation = hp.Choice('activation', ['relu', 'tanh', 'sigmoid', 'leaky_relu', 'elu', 'selu'])\n",
    "    nn_model.add(tf.keras.layers.Dense(units=hp.Int('first_units',\n",
    "                                        min_value=1,\n",
    "                                        max_value=75,\n",
    "                                        step=2), activation=activation, input_dim=len(X_scaled[0])))\n",
    "    for i in range(hp.Int('num_layers', 1, 10)):\n",
    "        nn_model.add(tf.keras.layers.Dense(units=hp.Int('units_' + str(i),\n",
    "                                        min_value=1,\n",
    "                                        max_value=75,\n",
    "                                        step=2), activation=activation))\n",
    "    nn_model.add(tf.keras.layers.Dense(units=1, activation=\"sigmoid\"))\n",
    "    loss = hp.Choice('loss', ['binary_crossentropy', 'mse'])\n",
    "    optimizer = hp.Choice('optimizer', ['adam', 'rmsprop', 'sgd', 'adagrad', 'adadelta', 'adamax', 'nadam'])\n",
    "    nn_model.compile(loss=loss, optimizer=optimizer, metrics=[\"accuracy\"])\n",
    "    \n",
    "    return nn_model"
   ]
  },
  {
   "cell_type": "code",
   "execution_count": 13,
   "metadata": {},
   "outputs": [],
   "source": [
    "tuner = kt.Hyperband(create_model, objective='val_accuracy', max_epochs=20, hyperband_iterations=10, directory='my_dir2', project_name='intro_to_kt')"
   ]
  },
  {
   "cell_type": "code",
   "execution_count": 14,
   "metadata": {},
   "outputs": [
    {
     "name": "stdout",
     "output_type": "stream",
     "text": [
      "Trial 300 Complete [00h 00m 02s]\n",
      "val_accuracy: 0.931034505367279\n",
      "\n",
      "Best val_accuracy So Far: 1.0\n",
      "Total elapsed time: 00h 07m 50s\n",
      "INFO:tensorflow:Oracle triggered exit\n"
     ]
    }
   ],
   "source": [
    "tuner.search(X_scaled, y_train, epochs=20, validation_data=(X_test_scaled, y_test))"
   ]
  },
  {
   "cell_type": "code",
   "execution_count": 15,
   "metadata": {},
   "outputs": [
    {
     "data": {
      "text/plain": [
       "{'activation': 'tanh',\n",
       " 'first_units': 71,\n",
       " 'num_layers': 9,\n",
       " 'units_0': 73,\n",
       " 'loss': 'binary_crossentropy',\n",
       " 'optimizer': 'nadam',\n",
       " 'units_1': 23,\n",
       " 'units_2': 19,\n",
       " 'units_3': 65,\n",
       " 'units_4': 19,\n",
       " 'units_5': 55,\n",
       " 'units_6': 69,\n",
       " 'units_7': 3,\n",
       " 'units_8': 9,\n",
       " 'tuner/epochs': 3,\n",
       " 'tuner/initial_epoch': 0,\n",
       " 'tuner/bracket': 2,\n",
       " 'tuner/round': 0}"
      ]
     },
     "execution_count": 15,
     "metadata": {},
     "output_type": "execute_result"
    }
   ],
   "source": [
    "best_hyper = tuner.get_best_hyperparameters(1)[0]\n",
    "best_hyper.values"
   ]
  },
  {
   "cell_type": "code",
   "execution_count": 16,
   "metadata": {},
   "outputs": [
    {
     "name": "stdout",
     "output_type": "stream",
     "text": [
      "2/2 - 0s - loss: 0.2652 - accuracy: 1.0000 - 189ms/epoch - 95ms/step\n",
      "Loss: 0.26523008942604065, Accuracy: 1.0\n"
     ]
    }
   ],
   "source": [
    "# Evaluate best model against full test data\n",
    "best_model = tuner.get_best_models(1)[0]\n",
    "model_loss, model_accuracy = best_model.evaluate(X_test_scaled,y_test,verbose=2)\n",
    "print(f\"Loss: {model_loss}, Accuracy: {model_accuracy}\")"
   ]
  },
  {
   "cell_type": "code",
   "execution_count": 26,
   "metadata": {},
   "outputs": [
    {
     "name": "stdout",
     "output_type": "stream",
     "text": [
      "Model: \"sequential_2\"\n",
      "_________________________________________________________________\n",
      " Layer (type)                Output Shape              Param #   \n",
      "=================================================================\n",
      " dense_21 (Dense)            (None, 71)                1846      \n",
      "                                                                 \n",
      " dense_22 (Dense)            (None, 73)                5256      \n",
      "                                                                 \n",
      " dense_23 (Dense)            (None, 23)                1702      \n",
      "                                                                 \n",
      " dense_24 (Dense)            (None, 19)                456       \n",
      "                                                                 \n",
      " dense_25 (Dense)            (None, 65)                1300      \n",
      "                                                                 \n",
      " dense_26 (Dense)            (None, 55)                3630      \n",
      "                                                                 \n",
      " dense_27 (Dense)            (None, 69)                3864      \n",
      "                                                                 \n",
      " dense_28 (Dense)            (None, 3)                 210       \n",
      "                                                                 \n",
      " dense_29 (Dense)            (None, 9)                 36        \n",
      "                                                                 \n",
      " dense_30 (Dense)            (None, 1)                 10        \n",
      "                                                                 \n",
      "=================================================================\n",
      "Total params: 18,310\n",
      "Trainable params: 18,310\n",
      "Non-trainable params: 0\n",
      "_________________________________________________________________\n"
     ]
    }
   ],
   "source": [
    "# Define the model - deep neural net, i.e., the number of input features and hidden nodes for each layer.\n",
    "number_input_features = len(X_scaled[0])\n",
    "hidden_nodes_layer1 =  71\n",
    "hidden_nodes_layer2 = 73\n",
    "hidden_nodes_layer3 = 23\n",
    "hidden_nodes_layer4 = 19\n",
    "hidden_nodes_layer5 = 65\n",
    "hidden_nodes_layer6 = 55\n",
    "hidden_nodes_layer7 = 69\n",
    "hidden_nodes_layer8 = 3\n",
    "hidden_nodes_layer9 = 9\n",
    "\n",
    "\n",
    "output_dim = 1\n",
    "\n",
    "\n",
    "\n",
    "nn_model = tf.keras.models.Sequential()\n",
    "\n",
    "# First hidden layer\n",
    "nn_model.add(tf.keras.layers.Dense(units=hidden_nodes_layer1, input_dim=number_input_features, activation=\"tanh\"))\n",
    "\n",
    "# Second hidden layer\n",
    "nn_model.add(tf.keras.layers.Dense(units=hidden_nodes_layer2, activation=\"tanh\"))\n",
    "nn_model.add(tf.keras.layers.Dense(units=hidden_nodes_layer3, activation=\"tanh\"))\n",
    "nn_model.add(tf.keras.layers.Dense(units=hidden_nodes_layer4, activation=\"tanh\"))\n",
    "nn_model.add(tf.keras.layers.Dense(units=hidden_nodes_layer5, activation=\"tanh\"))\n",
    "nn_model.add(tf.keras.layers.Dense(units=hidden_nodes_layer6, activation=\"tanh\"))\n",
    "nn_model.add(tf.keras.layers.Dense(units=hidden_nodes_layer7, activation=\"tanh\"))\n",
    "nn_model.add(tf.keras.layers.Dense(units=hidden_nodes_layer8, activation=\"tanh\"))\n",
    "nn_model.add(tf.keras.layers.Dense(units=hidden_nodes_layer9, activation=\"tanh\"))\n",
    "\n",
    "\n",
    "\n",
    "\n",
    "\n",
    "\n",
    "# Output layer\n",
    "nn_model.add(tf.keras.layers.Dense(output_dim, activation=\"sigmoid\"))\n",
    "\n",
    "# Check the structure of the model\n",
    "nn_model.summary()"
   ]
  },
  {
   "cell_type": "code",
   "execution_count": 27,
   "metadata": {},
   "outputs": [],
   "source": [
    "nn_model.compile(loss='binary_crossentropy', optimizer='nadam', metrics=[\"accuracy\"])"
   ]
  },
  {
   "cell_type": "code",
   "execution_count": 28,
   "metadata": {},
   "outputs": [
    {
     "name": "stdout",
     "output_type": "stream",
     "text": [
      "Epoch 1/20\n",
      "6/6 [==============================] - 2s 18ms/step - loss: 0.5950 - accuracy: 0.8256\n",
      "Epoch 2/20\n",
      "6/6 [==============================] - 0s 19ms/step - loss: 0.3959 - accuracy: 0.9767\n",
      "Epoch 3/20\n",
      "6/6 [==============================] - 0s 17ms/step - loss: 0.3112 - accuracy: 0.9942\n",
      "Epoch 4/20\n",
      "6/6 [==============================] - 0s 16ms/step - loss: 0.2783 - accuracy: 1.0000\n",
      "Epoch 5/20\n",
      "6/6 [==============================] - 0s 18ms/step - loss: 0.2579 - accuracy: 1.0000\n",
      "Epoch 6/20\n",
      "6/6 [==============================] - 0s 17ms/step - loss: 0.2421 - accuracy: 1.0000\n",
      "Epoch 7/20\n",
      "6/6 [==============================] - 0s 19ms/step - loss: 0.2278 - accuracy: 1.0000\n",
      "Epoch 8/20\n",
      "6/6 [==============================] - 0s 16ms/step - loss: 0.2146 - accuracy: 1.0000\n",
      "Epoch 9/20\n",
      "6/6 [==============================] - 0s 18ms/step - loss: 0.2022 - accuracy: 1.0000\n",
      "Epoch 10/20\n",
      "6/6 [==============================] - 0s 17ms/step - loss: 0.1907 - accuracy: 1.0000\n",
      "Epoch 11/20\n",
      "6/6 [==============================] - 0s 18ms/step - loss: 0.1800 - accuracy: 1.0000\n",
      "Epoch 12/20\n",
      "6/6 [==============================] - 0s 18ms/step - loss: 0.1699 - accuracy: 1.0000\n",
      "Epoch 13/20\n",
      "6/6 [==============================] - 0s 19ms/step - loss: 0.1606 - accuracy: 1.0000\n",
      "Epoch 14/20\n",
      "6/6 [==============================] - 0s 19ms/step - loss: 0.1518 - accuracy: 1.0000\n",
      "Epoch 15/20\n",
      "6/6 [==============================] - 0s 17ms/step - loss: 0.1436 - accuracy: 1.0000\n",
      "Epoch 16/20\n",
      "6/6 [==============================] - 0s 16ms/step - loss: 0.1360 - accuracy: 1.0000\n",
      "Epoch 17/20\n",
      "6/6 [==============================] - 0s 18ms/step - loss: 0.1288 - accuracy: 1.0000\n",
      "Epoch 18/20\n",
      "6/6 [==============================] - 0s 16ms/step - loss: 0.1221 - accuracy: 1.0000\n",
      "Epoch 19/20\n",
      "6/6 [==============================] - 0s 16ms/step - loss: 0.1159 - accuracy: 1.0000\n",
      "Epoch 20/20\n",
      "6/6 [==============================] - 0s 19ms/step - loss: 0.1101 - accuracy: 1.0000\n"
     ]
    }
   ],
   "source": [
    "\n",
    "# Train the model\n",
    "fit_model = nn_model.fit(X_scaled, y_train, epochs=20, initial_epoch= 0)"
   ]
  },
  {
   "cell_type": "code",
   "execution_count": 29,
   "metadata": {},
   "outputs": [
    {
     "name": "stdout",
     "output_type": "stream",
     "text": [
      "2/2 - 0s - loss: 0.1054 - accuracy: 1.0000 - 196ms/epoch - 98ms/step\n",
      "Loss: 0.10541243106126785, Accuracy: 1.0\n"
     ]
    }
   ],
   "source": [
    "# Evaluate the model using the test data\n",
    "model_loss, model_accuracy = nn_model.evaluate(X_test_scaled,y_test,verbose=2)\n",
    "print(f\"Loss: {model_loss}, Accuracy: {model_accuracy}\")"
   ]
  },
  {
   "cell_type": "code",
   "execution_count": 30,
   "metadata": {},
   "outputs": [
    {
     "name": "stdout",
     "output_type": "stream",
     "text": [
      "2/2 [==============================] - 0s 3ms/step\n"
     ]
    }
   ],
   "source": [
    "predictions = nn_model.predict(X_test_scaled)"
   ]
  },
  {
   "cell_type": "code",
   "execution_count": null,
   "metadata": {},
   "outputs": [],
   "source": [
    "y_te"
   ]
  },
  {
   "cell_type": "code",
   "execution_count": 33,
   "metadata": {},
   "outputs": [
    {
     "ename": "ValueError",
     "evalue": "Classification metrics can't handle a mix of binary and continuous targets",
     "output_type": "error",
     "traceback": [
      "\u001b[1;31m---------------------------------------------------------------------------\u001b[0m",
      "\u001b[1;31mValueError\u001b[0m                                Traceback (most recent call last)",
      "Cell \u001b[1;32mIn[33], line 2\u001b[0m\n\u001b[0;32m      1\u001b[0m \u001b[39m# Calculating the confusion matrix\u001b[39;00m\n\u001b[1;32m----> 2\u001b[0m cm \u001b[39m=\u001b[39m confusion_matrix(y_test, predictions)\n\u001b[0;32m      3\u001b[0m cm_df \u001b[39m=\u001b[39m pd\u001b[39m.\u001b[39mDataFrame(\n\u001b[0;32m      4\u001b[0m     cm, index\u001b[39m=\u001b[39m[\u001b[39m\"\u001b[39m\u001b[39mActual 0\u001b[39m\u001b[39m\"\u001b[39m, \u001b[39m\"\u001b[39m\u001b[39mActual 1\u001b[39m\u001b[39m\"\u001b[39m], columns\u001b[39m=\u001b[39m[\u001b[39m\"\u001b[39m\u001b[39mPredicted 0\u001b[39m\u001b[39m\"\u001b[39m, \u001b[39m\"\u001b[39m\u001b[39mPredicted 1\u001b[39m\u001b[39m\"\u001b[39m]\n\u001b[0;32m      5\u001b[0m )\n\u001b[0;32m      7\u001b[0m \u001b[39m# Calculating the accuracy score\u001b[39;00m\n",
      "File \u001b[1;32mc:\\Users\\micha\\anaconda3\\envs\\ml_main\\lib\\site-packages\\sklearn\\utils\\_param_validation.py:211\u001b[0m, in \u001b[0;36mvalidate_params.<locals>.decorator.<locals>.wrapper\u001b[1;34m(*args, **kwargs)\u001b[0m\n\u001b[0;32m    205\u001b[0m \u001b[39mtry\u001b[39;00m:\n\u001b[0;32m    206\u001b[0m     \u001b[39mwith\u001b[39;00m config_context(\n\u001b[0;32m    207\u001b[0m         skip_parameter_validation\u001b[39m=\u001b[39m(\n\u001b[0;32m    208\u001b[0m             prefer_skip_nested_validation \u001b[39mor\u001b[39;00m global_skip_validation\n\u001b[0;32m    209\u001b[0m         )\n\u001b[0;32m    210\u001b[0m     ):\n\u001b[1;32m--> 211\u001b[0m         \u001b[39mreturn\u001b[39;00m func(\u001b[39m*\u001b[39margs, \u001b[39m*\u001b[39m\u001b[39m*\u001b[39mkwargs)\n\u001b[0;32m    212\u001b[0m \u001b[39mexcept\u001b[39;00m InvalidParameterError \u001b[39mas\u001b[39;00m e:\n\u001b[0;32m    213\u001b[0m     \u001b[39m# When the function is just a wrapper around an estimator, we allow\u001b[39;00m\n\u001b[0;32m    214\u001b[0m     \u001b[39m# the function to delegate validation to the estimator, but we replace\u001b[39;00m\n\u001b[0;32m    215\u001b[0m     \u001b[39m# the name of the estimator by the name of the function in the error\u001b[39;00m\n\u001b[0;32m    216\u001b[0m     \u001b[39m# message to avoid confusion.\u001b[39;00m\n\u001b[0;32m    217\u001b[0m     msg \u001b[39m=\u001b[39m re\u001b[39m.\u001b[39msub(\n\u001b[0;32m    218\u001b[0m         \u001b[39mr\u001b[39m\u001b[39m\"\u001b[39m\u001b[39mparameter of \u001b[39m\u001b[39m\\\u001b[39m\u001b[39mw+ must be\u001b[39m\u001b[39m\"\u001b[39m,\n\u001b[0;32m    219\u001b[0m         \u001b[39mf\u001b[39m\u001b[39m\"\u001b[39m\u001b[39mparameter of \u001b[39m\u001b[39m{\u001b[39;00mfunc\u001b[39m.\u001b[39m\u001b[39m__qualname__\u001b[39m\u001b[39m}\u001b[39;00m\u001b[39m must be\u001b[39m\u001b[39m\"\u001b[39m,\n\u001b[0;32m    220\u001b[0m         \u001b[39mstr\u001b[39m(e),\n\u001b[0;32m    221\u001b[0m     )\n",
      "File \u001b[1;32mc:\\Users\\micha\\anaconda3\\envs\\ml_main\\lib\\site-packages\\sklearn\\metrics\\_classification.py:326\u001b[0m, in \u001b[0;36mconfusion_matrix\u001b[1;34m(y_true, y_pred, labels, sample_weight, normalize)\u001b[0m\n\u001b[0;32m    231\u001b[0m \u001b[39m@validate_params\u001b[39m(\n\u001b[0;32m    232\u001b[0m     {\n\u001b[0;32m    233\u001b[0m         \u001b[39m\"\u001b[39m\u001b[39my_true\u001b[39m\u001b[39m\"\u001b[39m: [\u001b[39m\"\u001b[39m\u001b[39marray-like\u001b[39m\u001b[39m\"\u001b[39m],\n\u001b[1;32m   (...)\u001b[0m\n\u001b[0;32m    242\u001b[0m     y_true, y_pred, \u001b[39m*\u001b[39m, labels\u001b[39m=\u001b[39m\u001b[39mNone\u001b[39;00m, sample_weight\u001b[39m=\u001b[39m\u001b[39mNone\u001b[39;00m, normalize\u001b[39m=\u001b[39m\u001b[39mNone\u001b[39;00m\n\u001b[0;32m    243\u001b[0m ):\n\u001b[0;32m    244\u001b[0m \u001b[39m    \u001b[39m\u001b[39m\"\"\"Compute confusion matrix to evaluate the accuracy of a classification.\u001b[39;00m\n\u001b[0;32m    245\u001b[0m \n\u001b[0;32m    246\u001b[0m \u001b[39m    By definition a confusion matrix :math:`C` is such that :math:`C_{i, j}`\u001b[39;00m\n\u001b[1;32m   (...)\u001b[0m\n\u001b[0;32m    324\u001b[0m \u001b[39m    (0, 2, 1, 1)\u001b[39;00m\n\u001b[0;32m    325\u001b[0m \u001b[39m    \"\"\"\u001b[39;00m\n\u001b[1;32m--> 326\u001b[0m     y_type, y_true, y_pred \u001b[39m=\u001b[39m _check_targets(y_true, y_pred)\n\u001b[0;32m    327\u001b[0m     \u001b[39mif\u001b[39;00m y_type \u001b[39mnot\u001b[39;00m \u001b[39min\u001b[39;00m (\u001b[39m\"\u001b[39m\u001b[39mbinary\u001b[39m\u001b[39m\"\u001b[39m, \u001b[39m\"\u001b[39m\u001b[39mmulticlass\u001b[39m\u001b[39m\"\u001b[39m):\n\u001b[0;32m    328\u001b[0m         \u001b[39mraise\u001b[39;00m \u001b[39mValueError\u001b[39;00m(\u001b[39m\"\u001b[39m\u001b[39m%s\u001b[39;00m\u001b[39m is not supported\u001b[39m\u001b[39m\"\u001b[39m \u001b[39m%\u001b[39m y_type)\n",
      "File \u001b[1;32mc:\\Users\\micha\\anaconda3\\envs\\ml_main\\lib\\site-packages\\sklearn\\metrics\\_classification.py:93\u001b[0m, in \u001b[0;36m_check_targets\u001b[1;34m(y_true, y_pred)\u001b[0m\n\u001b[0;32m     90\u001b[0m     y_type \u001b[39m=\u001b[39m {\u001b[39m\"\u001b[39m\u001b[39mmulticlass\u001b[39m\u001b[39m\"\u001b[39m}\n\u001b[0;32m     92\u001b[0m \u001b[39mif\u001b[39;00m \u001b[39mlen\u001b[39m(y_type) \u001b[39m>\u001b[39m \u001b[39m1\u001b[39m:\n\u001b[1;32m---> 93\u001b[0m     \u001b[39mraise\u001b[39;00m \u001b[39mValueError\u001b[39;00m(\n\u001b[0;32m     94\u001b[0m         \u001b[39m\"\u001b[39m\u001b[39mClassification metrics can\u001b[39m\u001b[39m'\u001b[39m\u001b[39mt handle a mix of \u001b[39m\u001b[39m{0}\u001b[39;00m\u001b[39m and \u001b[39m\u001b[39m{1}\u001b[39;00m\u001b[39m targets\u001b[39m\u001b[39m\"\u001b[39m\u001b[39m.\u001b[39mformat(\n\u001b[0;32m     95\u001b[0m             type_true, type_pred\n\u001b[0;32m     96\u001b[0m         )\n\u001b[0;32m     97\u001b[0m     )\n\u001b[0;32m     99\u001b[0m \u001b[39m# We can't have more than one value on y_type => The set is no more needed\u001b[39;00m\n\u001b[0;32m    100\u001b[0m y_type \u001b[39m=\u001b[39m y_type\u001b[39m.\u001b[39mpop()\n",
      "\u001b[1;31mValueError\u001b[0m: Classification metrics can't handle a mix of binary and continuous targets"
     ]
    }
   ],
   "source": [
    "# Calculating the confusion matrix\n",
    "cm = confusion_matrix(y_test, predictions)\n",
    "cm_df = pd.DataFrame(\n",
    "    cm, index=[\"Actual 0\", \"Actual 1\"], columns=[\"Predicted 0\", \"Predicted 1\"]\n",
    ")\n",
    "\n",
    "# Calculating the accuracy score\n",
    "acc_score = accuracy_score(y_test, predictions)"
   ]
  },
  {
   "cell_type": "code",
   "execution_count": 29,
   "metadata": {},
   "outputs": [],
   "source": [
    "nn_model.save('trained_model_president.h5')"
   ]
  }
 ],
 "metadata": {
  "kernelspec": {
   "display_name": "ml_main",
   "language": "python",
   "name": "python3"
  },
  "language_info": {
   "codemirror_mode": {
    "name": "ipython",
    "version": 3
   },
   "file_extension": ".py",
   "mimetype": "text/x-python",
   "name": "python",
   "nbconvert_exporter": "python",
   "pygments_lexer": "ipython3",
   "version": "3.9.17"
  },
  "orig_nbformat": 4
 },
 "nbformat": 4,
 "nbformat_minor": 2
}
