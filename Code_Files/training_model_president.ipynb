{
 "cells": [
  {
   "cell_type": "code",
   "execution_count": 1,
   "metadata": {},
   "outputs": [],
   "source": [
    "# Import our dependencies\n",
    "from sklearn.model_selection import train_test_split\n",
    "from sklearn.preprocessing import StandardScaler\n",
    "from sklearn.metrics import accuracy_score, precision_score, recall_score, f1_score, roc_auc_score, mean_squared_error, mean_absolute_error\n",
    "import pandas as pd\n",
    "import numpy as np\n",
    "import tensorflow as tf\n",
    "import keras_tuner as kt\n",
    "import keras as kr\n"
   ]
  },
  {
   "cell_type": "code",
   "execution_count": 2,
   "metadata": {},
   "outputs": [
    {
     "data": {
      "text/html": [
       "<div>\n",
       "<style scoped>\n",
       "    .dataframe tbody tr th:only-of-type {\n",
       "        vertical-align: middle;\n",
       "    }\n",
       "\n",
       "    .dataframe tbody tr th {\n",
       "        vertical-align: top;\n",
       "    }\n",
       "\n",
       "    .dataframe thead th {\n",
       "        text-align: right;\n",
       "    }\n",
       "</style>\n",
       "<table border=\"1\" class=\"dataframe\">\n",
       "  <thead>\n",
       "    <tr style=\"text-align: right;\">\n",
       "      <th></th>\n",
       "      <th>samplesize</th>\n",
       "      <th>party</th>\n",
       "      <th>results</th>\n",
       "      <th>favorability</th>\n",
       "    </tr>\n",
       "  </thead>\n",
       "  <tbody>\n",
       "    <tr>\n",
       "      <th>0</th>\n",
       "      <td>1204.0</td>\n",
       "      <td>d</td>\n",
       "      <td>1</td>\n",
       "      <td>-22.0006</td>\n",
       "    </tr>\n",
       "    <tr>\n",
       "      <th>1</th>\n",
       "      <td>1553.0</td>\n",
       "      <td>d</td>\n",
       "      <td>1</td>\n",
       "      <td>-2.0001</td>\n",
       "    </tr>\n",
       "    <tr>\n",
       "      <th>2</th>\n",
       "      <td>838.0</td>\n",
       "      <td>d</td>\n",
       "      <td>1</td>\n",
       "      <td>-17.6672</td>\n",
       "    </tr>\n",
       "    <tr>\n",
       "      <th>3</th>\n",
       "      <td>1198.0</td>\n",
       "      <td>d</td>\n",
       "      <td>1</td>\n",
       "      <td>-20.3339</td>\n",
       "    </tr>\n",
       "    <tr>\n",
       "      <th>4</th>\n",
       "      <td>1859.0</td>\n",
       "      <td>d</td>\n",
       "      <td>1</td>\n",
       "      <td>-6.6670</td>\n",
       "    </tr>\n",
       "  </tbody>\n",
       "</table>\n",
       "</div>"
      ],
      "text/plain": [
       "   samplesize party  results  favorability\n",
       "0      1204.0     d        1      -22.0006\n",
       "1      1553.0     d        1       -2.0001\n",
       "2       838.0     d        1      -17.6672\n",
       "3      1198.0     d        1      -20.3339\n",
       "4      1859.0     d        1       -6.6670"
      ]
     },
     "execution_count": 2,
     "metadata": {},
     "output_type": "execute_result"
    }
   ],
   "source": [
    "biden_v_trump = pd.read_csv('../election_resources/historical_elections.csv')\n",
    "biden_v_trump.head()"
   ]
  },
  {
   "cell_type": "code",
   "execution_count": 3,
   "metadata": {},
   "outputs": [
    {
     "data": {
      "text/html": [
       "<div>\n",
       "<style scoped>\n",
       "    .dataframe tbody tr th:only-of-type {\n",
       "        vertical-align: middle;\n",
       "    }\n",
       "\n",
       "    .dataframe tbody tr th {\n",
       "        vertical-align: top;\n",
       "    }\n",
       "\n",
       "    .dataframe thead th {\n",
       "        text-align: right;\n",
       "    }\n",
       "</style>\n",
       "<table border=\"1\" class=\"dataframe\">\n",
       "  <thead>\n",
       "    <tr style=\"text-align: right;\">\n",
       "      <th></th>\n",
       "      <th>samplesize</th>\n",
       "      <th>party</th>\n",
       "      <th>results</th>\n",
       "      <th>favorability</th>\n",
       "    </tr>\n",
       "  </thead>\n",
       "  <tbody>\n",
       "    <tr>\n",
       "      <th>0</th>\n",
       "      <td>1204.0</td>\n",
       "      <td>d</td>\n",
       "      <td>1</td>\n",
       "      <td>-22.0006</td>\n",
       "    </tr>\n",
       "    <tr>\n",
       "      <th>1</th>\n",
       "      <td>1553.0</td>\n",
       "      <td>d</td>\n",
       "      <td>1</td>\n",
       "      <td>-2.0001</td>\n",
       "    </tr>\n",
       "    <tr>\n",
       "      <th>2</th>\n",
       "      <td>838.0</td>\n",
       "      <td>d</td>\n",
       "      <td>1</td>\n",
       "      <td>-17.6672</td>\n",
       "    </tr>\n",
       "    <tr>\n",
       "      <th>3</th>\n",
       "      <td>1198.0</td>\n",
       "      <td>d</td>\n",
       "      <td>1</td>\n",
       "      <td>-20.3339</td>\n",
       "    </tr>\n",
       "    <tr>\n",
       "      <th>4</th>\n",
       "      <td>1859.0</td>\n",
       "      <td>d</td>\n",
       "      <td>1</td>\n",
       "      <td>-6.6670</td>\n",
       "    </tr>\n",
       "  </tbody>\n",
       "</table>\n",
       "</div>"
      ],
      "text/plain": [
       "   samplesize party  results  favorability\n",
       "0      1204.0     d        1      -22.0006\n",
       "1      1553.0     d        1       -2.0001\n",
       "2       838.0     d        1      -17.6672\n",
       "3      1198.0     d        1      -20.3339\n",
       "4      1859.0     d        1       -6.6670"
      ]
     },
     "execution_count": 3,
     "metadata": {},
     "output_type": "execute_result"
    }
   ],
   "source": [
    "biden_v_trump.head()"
   ]
  },
  {
   "cell_type": "code",
   "execution_count": 4,
   "metadata": {},
   "outputs": [
    {
     "data": {
      "text/plain": [
       "Index(['samplesize', 'party', 'results', 'favorability'], dtype='object')"
      ]
     },
     "execution_count": 4,
     "metadata": {},
     "output_type": "execute_result"
    }
   ],
   "source": [
    "biden_v_trump.columns"
   ]
  },
  {
   "cell_type": "code",
   "execution_count": 5,
   "metadata": {},
   "outputs": [
    {
     "data": {
      "text/plain": [
       "samplesize       792\n",
       "party              2\n",
       "results            2\n",
       "favorability    6335\n",
       "dtype: int64"
      ]
     },
     "execution_count": 5,
     "metadata": {},
     "output_type": "execute_result"
    }
   ],
   "source": [
    "biden_v_trump.nunique()"
   ]
  },
  {
   "cell_type": "code",
   "execution_count": 6,
   "metadata": {},
   "outputs": [
    {
     "data": {
      "text/plain": [
       "(6440, 4)"
      ]
     },
     "execution_count": 6,
     "metadata": {},
     "output_type": "execute_result"
    }
   ],
   "source": [
    "biden_v_trump.shape"
   ]
  },
  {
   "cell_type": "code",
   "execution_count": 7,
   "metadata": {},
   "outputs": [
    {
     "data": {
      "text/html": [
       "<div>\n",
       "<style scoped>\n",
       "    .dataframe tbody tr th:only-of-type {\n",
       "        vertical-align: middle;\n",
       "    }\n",
       "\n",
       "    .dataframe tbody tr th {\n",
       "        vertical-align: top;\n",
       "    }\n",
       "\n",
       "    .dataframe thead th {\n",
       "        text-align: right;\n",
       "    }\n",
       "</style>\n",
       "<table border=\"1\" class=\"dataframe\">\n",
       "  <thead>\n",
       "    <tr style=\"text-align: right;\">\n",
       "      <th></th>\n",
       "      <th>samplesize</th>\n",
       "      <th>results</th>\n",
       "      <th>favorability</th>\n",
       "      <th>party_d</th>\n",
       "      <th>party_r</th>\n",
       "    </tr>\n",
       "  </thead>\n",
       "  <tbody>\n",
       "    <tr>\n",
       "      <th>0</th>\n",
       "      <td>1204.0</td>\n",
       "      <td>1</td>\n",
       "      <td>-22.0006</td>\n",
       "      <td>1.0</td>\n",
       "      <td>0.0</td>\n",
       "    </tr>\n",
       "    <tr>\n",
       "      <th>1</th>\n",
       "      <td>1553.0</td>\n",
       "      <td>1</td>\n",
       "      <td>-2.0001</td>\n",
       "      <td>1.0</td>\n",
       "      <td>0.0</td>\n",
       "    </tr>\n",
       "    <tr>\n",
       "      <th>2</th>\n",
       "      <td>838.0</td>\n",
       "      <td>1</td>\n",
       "      <td>-17.6672</td>\n",
       "      <td>1.0</td>\n",
       "      <td>0.0</td>\n",
       "    </tr>\n",
       "    <tr>\n",
       "      <th>3</th>\n",
       "      <td>1198.0</td>\n",
       "      <td>1</td>\n",
       "      <td>-20.3339</td>\n",
       "      <td>1.0</td>\n",
       "      <td>0.0</td>\n",
       "    </tr>\n",
       "    <tr>\n",
       "      <th>4</th>\n",
       "      <td>1859.0</td>\n",
       "      <td>1</td>\n",
       "      <td>-6.6670</td>\n",
       "      <td>1.0</td>\n",
       "      <td>0.0</td>\n",
       "    </tr>\n",
       "  </tbody>\n",
       "</table>\n",
       "</div>"
      ],
      "text/plain": [
       "   samplesize  results  favorability  party_d  party_r\n",
       "0      1204.0        1      -22.0006      1.0      0.0\n",
       "1      1553.0        1       -2.0001      1.0      0.0\n",
       "2       838.0        1      -17.6672      1.0      0.0\n",
       "3      1198.0        1      -20.3339      1.0      0.0\n",
       "4      1859.0        1       -6.6670      1.0      0.0"
      ]
     },
     "execution_count": 7,
     "metadata": {},
     "output_type": "execute_result"
    }
   ],
   "source": [
    "biden_v_trump = pd.get_dummies(biden_v_trump, dtype=float)\n",
    "biden_v_trump.head()"
   ]
  },
  {
   "cell_type": "code",
   "execution_count": 8,
   "metadata": {},
   "outputs": [],
   "source": [
    "biden_v_trump.fillna(0, inplace=True)"
   ]
  },
  {
   "cell_type": "code",
   "execution_count": 9,
   "metadata": {},
   "outputs": [
    {
     "data": {
      "text/plain": [
       "(6440, 5)"
      ]
     },
     "execution_count": 9,
     "metadata": {},
     "output_type": "execute_result"
    }
   ],
   "source": [
    "biden_v_trump.shape"
   ]
  },
  {
   "cell_type": "code",
   "execution_count": 10,
   "metadata": {},
   "outputs": [],
   "source": [
    "y = biden_v_trump['results'].values\n",
    "X = biden_v_trump.drop(['results'], axis=1).values\n",
    "X_train, X_test, y_train, y_test = train_test_split(X, y, test_size=0.25, random_state=21)"
   ]
  },
  {
   "cell_type": "code",
   "execution_count": 11,
   "metadata": {},
   "outputs": [],
   "source": [
    "scaler = StandardScaler()\n",
    "X_scaler = scaler.fit(X_train)\n",
    "X_scaled = X_scaler.transform(X_train)\n",
    "X_test_scaled = X_scaler.transform(X_test)"
   ]
  },
  {
   "cell_type": "code",
   "execution_count": 12,
   "metadata": {},
   "outputs": [
    {
     "data": {
      "text/plain": [
       "(4830, 4)"
      ]
     },
     "execution_count": 12,
     "metadata": {},
     "output_type": "execute_result"
    }
   ],
   "source": [
    "X_scaled.shape"
   ]
  },
  {
   "cell_type": "code",
   "execution_count": 13,
   "metadata": {},
   "outputs": [],
   "source": [
    "def create_model(hp):\n",
    "    nn_model = tf.keras.models.Sequential()\n",
    "    activation = hp.Choice('activation', ['tanh', 'sigmoid', 'leaky_relu', 'elu', 'selu', 'PReLU'])\n",
    "    nn_model.add(tf.keras.layers.Dense(units=hp.Int('first_units',\n",
    "                                        min_value=1,\n",
    "                                        max_value=20,\n",
    "                                        step=2), activation=activation, input_dim=len(X_scaled[0])))\n",
    "    for i in range(hp.Int('num_layers', 1, 10)):\n",
    "        nn_model.add(tf.keras.layers.Dense(units=hp.Int('units_' + str(i),\n",
    "                                        min_value=1,\n",
    "                                        max_value=20,\n",
    "                                        step=2), activation=activation))\n",
    "    nn_model.add(tf.keras.layers.Dense(units=1, activation=\"sigmoid\"))\n",
    "    loss = hp.Choice('loss', ['binary_crossentropy', 'mse'])\n",
    "    optimizer = hp.Choice('optimizer', ['adam', 'rmsprop', 'sgd', 'adagrad', 'adadelta', 'adamax', 'nadam'])\n",
    "    nn_model.compile(loss=loss, optimizer=optimizer, metrics=[\"accuracy\"])\n",
    "    \n",
    "    return nn_model"
   ]
  },
  {
   "cell_type": "code",
   "execution_count": 14,
   "metadata": {},
   "outputs": [],
   "source": [
    "tuner = kt.Hyperband(create_model, objective='val_accuracy', max_epochs=20, hyperband_iterations=10, directory='my_dir2', project_name='intro_to_kt')"
   ]
  },
  {
   "cell_type": "code",
   "execution_count": 15,
   "metadata": {},
   "outputs": [
    {
     "name": "stdout",
     "output_type": "stream",
     "text": [
      "Trial 300 Complete [00h 00m 24s]\n",
      "val_accuracy: 0.9583851099014282\n",
      "\n",
      "Best val_accuracy So Far: 0.9788820147514343\n",
      "Total elapsed time: 00h 46m 29s\n",
      "INFO:tensorflow:Oracle triggered exit\n"
     ]
    }
   ],
   "source": [
    "tuner.search(X_scaled, y_train, epochs=20, validation_data=(X_test_scaled, y_test))"
   ]
  },
  {
   "cell_type": "code",
   "execution_count": 24,
   "metadata": {},
   "outputs": [
    {
     "data": {
      "text/plain": [
       "{'activation': 'PReLU',\n",
       " 'first_units': 11,\n",
       " 'num_layers': 5,\n",
       " 'units_0': 7,\n",
       " 'loss': 'binary_crossentropy',\n",
       " 'optimizer': 'nadam',\n",
       " 'units_1': 9,\n",
       " 'units_2': 17,\n",
       " 'units_3': 3,\n",
       " 'units_4': 9,\n",
       " 'units_5': 5,\n",
       " 'units_6': 9,\n",
       " 'units_7': 9,\n",
       " 'units_8': 7,\n",
       " 'units_9': 15,\n",
       " 'tuner/epochs': 20,\n",
       " 'tuner/initial_epoch': 7,\n",
       " 'tuner/bracket': 1,\n",
       " 'tuner/round': 1,\n",
       " 'tuner/trial_id': '0083'}"
      ]
     },
     "execution_count": 24,
     "metadata": {},
     "output_type": "execute_result"
    }
   ],
   "source": [
    "best_hyper = tuner.get_best_hyperparameters(1)[0]\n",
    "best_hyper.values"
   ]
  },
  {
   "cell_type": "code",
   "execution_count": 25,
   "metadata": {},
   "outputs": [
    {
     "name": "stdout",
     "output_type": "stream",
     "text": [
      "51/51 - 0s - loss: 0.0961 - accuracy: 0.9789 - 467ms/epoch - 9ms/step\n",
      "Loss: 0.09612816572189331, Accuracy: 0.9788820147514343\n"
     ]
    }
   ],
   "source": [
    "# Evaluate best model against full test data\n",
    "best_model = tuner.get_best_models(1)[0]\n",
    "model_loss, model_accuracy = best_model.evaluate(X_test_scaled,y_test,verbose=2)\n",
    "print(f\"Loss: {model_loss}, Accuracy: {model_accuracy}\")"
   ]
  },
  {
   "cell_type": "code",
   "execution_count": 13,
   "metadata": {},
   "outputs": [
    {
     "name": "stdout",
     "output_type": "stream",
     "text": [
      "Model: \"sequential\"\n",
      "_________________________________________________________________\n",
      " Layer (type)                Output Shape              Param #   \n",
      "=================================================================\n",
      " dense (Dense)               (None, 7)                 42        \n",
      "                                                                 \n",
      " dense_1 (Dense)             (None, 9)                 81        \n",
      "                                                                 \n",
      " dense_2 (Dense)             (None, 17)                187       \n",
      "                                                                 \n",
      " dense_3 (Dense)             (None, 3)                 57        \n",
      "                                                                 \n",
      " dense_4 (Dense)             (None, 9)                 45        \n",
      "                                                                 \n",
      " dense_5 (Dense)             (None, 1)                 10        \n",
      "                                                                 \n",
      "=================================================================\n",
      "Total params: 422\n",
      "Trainable params: 422\n",
      "Non-trainable params: 0\n",
      "_________________________________________________________________\n"
     ]
    }
   ],
   "source": [
    "# Define the model - deep neural net, i.e., the number of input features and hidden nodes for each layer.\n",
    "number_input_features = len(X_scaled[0])\n",
    "hidden_nodes_layer1 =  7\n",
    "hidden_nodes_layer2 = 9\n",
    "hidden_nodes_layer3 = 17\n",
    "hidden_nodes_layer4 = 3\n",
    "hidden_nodes_layer5 = 9\n",
    "\n",
    "\n",
    "\n",
    "output_dim = 1\n",
    "\n",
    "\n",
    "\n",
    "nn_model = tf.keras.models.Sequential()\n",
    "\n",
    "# First hidden layer\n",
    "nn_model.add(tf.keras.layers.Dense(units=hidden_nodes_layer1, input_dim=number_input_features, activation=\"PReLU\"))\n",
    "\n",
    "# Second hidden layer\n",
    "nn_model.add(tf.keras.layers.Dense(units=hidden_nodes_layer2, activation=\"PReLU\"))\n",
    "nn_model.add(tf.keras.layers.Dense(units=hidden_nodes_layer3, activation=\"PReLU\"))\n",
    "nn_model.add(tf.keras.layers.Dense(units=hidden_nodes_layer4, activation=\"PReLU\"))\n",
    "nn_model.add(tf.keras.layers.Dense(units=hidden_nodes_layer5, activation=\"PReLU\"))\n",
    "\n",
    "\n",
    "\n",
    "\n",
    "\n",
    "\n",
    "\n",
    "# Output layer\n",
    "nn_model.add(tf.keras.layers.Dense(output_dim, activation=\"sigmoid\"))\n",
    "\n",
    "# Check the structure of the model\n",
    "nn_model.summary()"
   ]
  },
  {
   "cell_type": "code",
   "execution_count": 14,
   "metadata": {},
   "outputs": [],
   "source": [
    "nn_model.compile(loss='binary_crossentropy', optimizer='nadam', metrics=[\"accuracy\"])"
   ]
  },
  {
   "cell_type": "code",
   "execution_count": 15,
   "metadata": {},
   "outputs": [
    {
     "name": "stdout",
     "output_type": "stream",
     "text": [
      "Epoch 1/100\n",
      "151/151 [==============================] - 4s 11ms/step - loss: 0.4667 - accuracy: 0.8733\n",
      "Epoch 2/100\n",
      "151/151 [==============================] - 2s 11ms/step - loss: 0.1440 - accuracy: 0.9698\n",
      "Epoch 3/100\n",
      "151/151 [==============================] - 2s 12ms/step - loss: 0.1082 - accuracy: 0.9756\n",
      "Epoch 4/100\n",
      "151/151 [==============================] - 2s 12ms/step - loss: 0.1026 - accuracy: 0.9754\n",
      "Epoch 5/100\n",
      "151/151 [==============================] - 2s 11ms/step - loss: 0.0987 - accuracy: 0.9754\n",
      "Epoch 6/100\n",
      "151/151 [==============================] - 2s 11ms/step - loss: 0.0954 - accuracy: 0.9766\n",
      "Epoch 7/100\n",
      "151/151 [==============================] - 2s 12ms/step - loss: 0.0928 - accuracy: 0.9764\n",
      "Epoch 8/100\n",
      "151/151 [==============================] - 2s 11ms/step - loss: 0.0907 - accuracy: 0.9770\n",
      "Epoch 9/100\n",
      "151/151 [==============================] - 2s 12ms/step - loss: 0.0902 - accuracy: 0.9785\n",
      "Epoch 10/100\n",
      "151/151 [==============================] - 2s 12ms/step - loss: 0.0892 - accuracy: 0.9787\n",
      "Epoch 11/100\n",
      "151/151 [==============================] - 2s 13ms/step - loss: 0.0887 - accuracy: 0.9783\n",
      "Epoch 12/100\n",
      "151/151 [==============================] - 2s 12ms/step - loss: 0.0888 - accuracy: 0.9781\n",
      "Epoch 13/100\n",
      "151/151 [==============================] - 2s 11ms/step - loss: 0.0886 - accuracy: 0.9785\n",
      "Epoch 14/100\n",
      "151/151 [==============================] - 2s 12ms/step - loss: 0.0876 - accuracy: 0.9793\n",
      "Epoch 15/100\n",
      "151/151 [==============================] - 2s 12ms/step - loss: 0.0886 - accuracy: 0.9774\n",
      "Epoch 16/100\n",
      "151/151 [==============================] - 2s 12ms/step - loss: 0.0881 - accuracy: 0.9776\n",
      "Epoch 17/100\n",
      "151/151 [==============================] - 2s 12ms/step - loss: 0.0877 - accuracy: 0.9783\n",
      "Epoch 18/100\n",
      "151/151 [==============================] - 2s 12ms/step - loss: 0.0878 - accuracy: 0.9791\n",
      "Epoch 19/100\n",
      "151/151 [==============================] - 2s 13ms/step - loss: 0.0872 - accuracy: 0.9791\n",
      "Epoch 20/100\n",
      "151/151 [==============================] - 2s 13ms/step - loss: 0.0874 - accuracy: 0.9787\n",
      "Epoch 21/100\n",
      "151/151 [==============================] - 2s 12ms/step - loss: 0.0880 - accuracy: 0.9785\n",
      "Epoch 22/100\n",
      "151/151 [==============================] - 2s 13ms/step - loss: 0.0864 - accuracy: 0.9774\n",
      "Epoch 23/100\n",
      "151/151 [==============================] - 2s 12ms/step - loss: 0.0871 - accuracy: 0.9785\n",
      "Epoch 24/100\n",
      "151/151 [==============================] - 2s 13ms/step - loss: 0.0874 - accuracy: 0.9774\n",
      "Epoch 25/100\n",
      "151/151 [==============================] - 2s 12ms/step - loss: 0.0875 - accuracy: 0.9776\n",
      "Epoch 26/100\n",
      "151/151 [==============================] - 2s 13ms/step - loss: 0.0866 - accuracy: 0.9791\n",
      "Epoch 27/100\n",
      "151/151 [==============================] - 2s 13ms/step - loss: 0.0875 - accuracy: 0.9789\n",
      "Epoch 28/100\n",
      "151/151 [==============================] - 2s 13ms/step - loss: 0.0865 - accuracy: 0.9789\n",
      "Epoch 29/100\n",
      "151/151 [==============================] - 2s 13ms/step - loss: 0.0872 - accuracy: 0.9778\n",
      "Epoch 30/100\n",
      "151/151 [==============================] - 2s 13ms/step - loss: 0.0864 - accuracy: 0.9797\n",
      "Epoch 31/100\n",
      "151/151 [==============================] - 2s 12ms/step - loss: 0.0865 - accuracy: 0.9785\n",
      "Epoch 32/100\n",
      "151/151 [==============================] - 2s 12ms/step - loss: 0.0867 - accuracy: 0.9785\n",
      "Epoch 33/100\n",
      "151/151 [==============================] - 2s 12ms/step - loss: 0.0863 - accuracy: 0.9793\n",
      "Epoch 34/100\n",
      "151/151 [==============================] - 2s 13ms/step - loss: 0.0868 - accuracy: 0.9785\n",
      "Epoch 35/100\n",
      "151/151 [==============================] - 2s 13ms/step - loss: 0.0863 - accuracy: 0.9785\n",
      "Epoch 36/100\n",
      "151/151 [==============================] - 2s 12ms/step - loss: 0.0861 - accuracy: 0.9789\n",
      "Epoch 37/100\n",
      "151/151 [==============================] - 2s 12ms/step - loss: 0.0869 - accuracy: 0.9783\n",
      "Epoch 38/100\n",
      "151/151 [==============================] - 2s 12ms/step - loss: 0.0867 - accuracy: 0.9785\n",
      "Epoch 39/100\n",
      "151/151 [==============================] - 2s 12ms/step - loss: 0.0866 - accuracy: 0.9785\n",
      "Epoch 40/100\n",
      "151/151 [==============================] - 2s 12ms/step - loss: 0.0859 - accuracy: 0.9789\n",
      "Epoch 41/100\n",
      "151/151 [==============================] - 2s 12ms/step - loss: 0.0859 - accuracy: 0.9789\n",
      "Epoch 42/100\n",
      "151/151 [==============================] - 2s 12ms/step - loss: 0.0862 - accuracy: 0.9787\n",
      "Epoch 43/100\n",
      "151/151 [==============================] - 2s 12ms/step - loss: 0.0868 - accuracy: 0.9785\n",
      "Epoch 44/100\n",
      "151/151 [==============================] - 2s 12ms/step - loss: 0.0860 - accuracy: 0.9783\n",
      "Epoch 45/100\n",
      "151/151 [==============================] - 2s 12ms/step - loss: 0.0860 - accuracy: 0.9791\n",
      "Epoch 46/100\n",
      "151/151 [==============================] - 2s 12ms/step - loss: 0.0861 - accuracy: 0.9785\n",
      "Epoch 47/100\n",
      "151/151 [==============================] - 2s 12ms/step - loss: 0.0854 - accuracy: 0.9785\n",
      "Epoch 48/100\n",
      "151/151 [==============================] - 2s 12ms/step - loss: 0.0855 - accuracy: 0.9795\n",
      "Epoch 49/100\n",
      "151/151 [==============================] - 2s 13ms/step - loss: 0.0852 - accuracy: 0.9793\n",
      "Epoch 50/100\n",
      "151/151 [==============================] - 2s 12ms/step - loss: 0.0855 - accuracy: 0.9787\n",
      "Epoch 51/100\n",
      "151/151 [==============================] - 2s 13ms/step - loss: 0.0848 - accuracy: 0.9781\n",
      "Epoch 52/100\n",
      "151/151 [==============================] - 2s 12ms/step - loss: 0.0853 - accuracy: 0.9791\n",
      "Epoch 53/100\n",
      "151/151 [==============================] - 2s 12ms/step - loss: 0.0850 - accuracy: 0.9793\n",
      "Epoch 54/100\n",
      "151/151 [==============================] - 2s 12ms/step - loss: 0.0853 - accuracy: 0.9795\n",
      "Epoch 55/100\n",
      "151/151 [==============================] - 1s 10ms/step - loss: 0.0850 - accuracy: 0.9789\n",
      "Epoch 56/100\n",
      "151/151 [==============================] - 2s 11ms/step - loss: 0.0850 - accuracy: 0.9785\n",
      "Epoch 57/100\n",
      "151/151 [==============================] - 2s 11ms/step - loss: 0.0849 - accuracy: 0.9797\n",
      "Epoch 58/100\n",
      "151/151 [==============================] - 2s 11ms/step - loss: 0.0853 - accuracy: 0.9787\n",
      "Epoch 59/100\n",
      "151/151 [==============================] - 2s 11ms/step - loss: 0.0847 - accuracy: 0.9781\n",
      "Epoch 60/100\n",
      "151/151 [==============================] - 2s 12ms/step - loss: 0.0841 - accuracy: 0.9787\n",
      "Epoch 61/100\n",
      "151/151 [==============================] - 2s 12ms/step - loss: 0.0836 - accuracy: 0.9789\n",
      "Epoch 62/100\n",
      "151/151 [==============================] - 2s 12ms/step - loss: 0.0842 - accuracy: 0.9789\n",
      "Epoch 63/100\n",
      "151/151 [==============================] - 2s 12ms/step - loss: 0.0842 - accuracy: 0.9795\n",
      "Epoch 64/100\n",
      "151/151 [==============================] - 2s 12ms/step - loss: 0.0845 - accuracy: 0.9787\n",
      "Epoch 65/100\n",
      "151/151 [==============================] - 2s 13ms/step - loss: 0.0845 - accuracy: 0.9791\n",
      "Epoch 66/100\n",
      "151/151 [==============================] - 2s 12ms/step - loss: 0.0840 - accuracy: 0.9791\n",
      "Epoch 67/100\n",
      "151/151 [==============================] - 2s 13ms/step - loss: 0.0839 - accuracy: 0.9791\n",
      "Epoch 68/100\n",
      "151/151 [==============================] - 2s 13ms/step - loss: 0.0839 - accuracy: 0.9797\n",
      "Epoch 69/100\n",
      "151/151 [==============================] - 2s 12ms/step - loss: 0.0837 - accuracy: 0.9785\n",
      "Epoch 70/100\n",
      "151/151 [==============================] - 2s 12ms/step - loss: 0.0835 - accuracy: 0.9789\n",
      "Epoch 71/100\n",
      "151/151 [==============================] - 2s 12ms/step - loss: 0.0835 - accuracy: 0.9793\n",
      "Epoch 72/100\n",
      "151/151 [==============================] - 2s 12ms/step - loss: 0.0825 - accuracy: 0.9799\n",
      "Epoch 73/100\n",
      "151/151 [==============================] - 2s 13ms/step - loss: 0.0836 - accuracy: 0.9793\n",
      "Epoch 74/100\n",
      "151/151 [==============================] - 2s 14ms/step - loss: 0.0834 - accuracy: 0.9791\n",
      "Epoch 75/100\n",
      "151/151 [==============================] - 2s 13ms/step - loss: 0.0835 - accuracy: 0.9789\n",
      "Epoch 76/100\n",
      "151/151 [==============================] - 2s 13ms/step - loss: 0.0831 - accuracy: 0.9797\n",
      "Epoch 77/100\n",
      "151/151 [==============================] - 2s 13ms/step - loss: 0.0829 - accuracy: 0.9791\n",
      "Epoch 78/100\n",
      "151/151 [==============================] - 2s 12ms/step - loss: 0.0835 - accuracy: 0.9791\n",
      "Epoch 79/100\n",
      "151/151 [==============================] - 2s 12ms/step - loss: 0.0830 - accuracy: 0.9795\n",
      "Epoch 80/100\n",
      "151/151 [==============================] - 2s 12ms/step - loss: 0.0825 - accuracy: 0.9789\n",
      "Epoch 81/100\n",
      "151/151 [==============================] - 2s 12ms/step - loss: 0.0824 - accuracy: 0.9791\n",
      "Epoch 82/100\n",
      "151/151 [==============================] - 2s 12ms/step - loss: 0.0822 - accuracy: 0.9797\n",
      "Epoch 83/100\n",
      "151/151 [==============================] - 2s 12ms/step - loss: 0.0816 - accuracy: 0.9791\n",
      "Epoch 84/100\n",
      "151/151 [==============================] - 2s 12ms/step - loss: 0.0816 - accuracy: 0.9793\n",
      "Epoch 85/100\n",
      "151/151 [==============================] - 2s 12ms/step - loss: 0.0819 - accuracy: 0.9795\n",
      "Epoch 86/100\n",
      "151/151 [==============================] - 2s 13ms/step - loss: 0.0817 - accuracy: 0.9799\n",
      "Epoch 87/100\n",
      "151/151 [==============================] - 2s 13ms/step - loss: 0.0811 - accuracy: 0.9793\n",
      "Epoch 88/100\n",
      "151/151 [==============================] - 2s 12ms/step - loss: 0.0820 - accuracy: 0.9799\n",
      "Epoch 89/100\n",
      "151/151 [==============================] - 2s 13ms/step - loss: 0.0805 - accuracy: 0.9791\n",
      "Epoch 90/100\n",
      "151/151 [==============================] - 2s 13ms/step - loss: 0.0809 - accuracy: 0.9805\n",
      "Epoch 91/100\n",
      "151/151 [==============================] - 2s 12ms/step - loss: 0.0807 - accuracy: 0.9803\n",
      "Epoch 92/100\n",
      "151/151 [==============================] - 2s 13ms/step - loss: 0.0800 - accuracy: 0.9793\n",
      "Epoch 93/100\n",
      "151/151 [==============================] - 2s 13ms/step - loss: 0.0804 - accuracy: 0.9795\n",
      "Epoch 94/100\n",
      "151/151 [==============================] - 2s 13ms/step - loss: 0.0796 - accuracy: 0.9795\n",
      "Epoch 95/100\n",
      "151/151 [==============================] - 2s 12ms/step - loss: 0.0803 - accuracy: 0.9793\n",
      "Epoch 96/100\n",
      "151/151 [==============================] - 2s 12ms/step - loss: 0.0791 - accuracy: 0.9799\n",
      "Epoch 97/100\n",
      "151/151 [==============================] - 2s 13ms/step - loss: 0.0799 - accuracy: 0.9793\n",
      "Epoch 98/100\n",
      "151/151 [==============================] - 2s 13ms/step - loss: 0.0790 - accuracy: 0.9793\n",
      "Epoch 99/100\n",
      "151/151 [==============================] - 2s 13ms/step - loss: 0.0790 - accuracy: 0.9799\n",
      "Epoch 100/100\n",
      "151/151 [==============================] - 2s 13ms/step - loss: 0.0787 - accuracy: 0.9799\n"
     ]
    }
   ],
   "source": [
    "\n",
    "# Train the model\n",
    "fit_model = nn_model.fit(X_scaled, y_train, epochs=100, initial_epoch= 0)"
   ]
  },
  {
   "cell_type": "code",
   "execution_count": 16,
   "metadata": {},
   "outputs": [
    {
     "name": "stdout",
     "output_type": "stream",
     "text": [
      "51/51 - 0s - loss: 0.0942 - accuracy: 0.9789 - 423ms/epoch - 8ms/step\n",
      "Loss: 0.09418128430843353, Accuracy: 0.9788820147514343\n"
     ]
    }
   ],
   "source": [
    "# Evaluate the model using the test data\n",
    "model_loss, model_accuracy = nn_model.evaluate(X_test_scaled,y_test,verbose=2)\n",
    "print(f\"Loss: {model_loss}, Accuracy: {model_accuracy}\")"
   ]
  },
  {
   "cell_type": "code",
   "execution_count": 17,
   "metadata": {},
   "outputs": [
    {
     "name": "stdout",
     "output_type": "stream",
     "text": [
      "51/51 [==============================] - 0s 3ms/step\n"
     ]
    }
   ],
   "source": [
    "predictions = nn_model.predict(X_test_scaled)"
   ]
  },
  {
   "cell_type": "code",
   "execution_count": 23,
   "metadata": {},
   "outputs": [],
   "source": [
    "\n",
    "# Assuming y_true contains the true labels and y_pred contains the predicted labels\n",
    "\n",
    "#accuracy = accuracy_score(y_test, predictions)\n",
    "#precision = precision_score(y_test, predictions)\n",
    "#recall = recall_score(y_test, predictions)\n",
    "#f1 = f1_score(y_test, predictions)\n",
    "auc_roc = roc_auc_score(y_test, predictions)\n",
    "mse = mean_squared_error(y_test, predictions)\n",
    "mae = mean_absolute_error(y_test, predictions)\n"
   ]
  },
  {
   "cell_type": "code",
   "execution_count": 24,
   "metadata": {},
   "outputs": [
    {
     "name": "stdout",
     "output_type": "stream",
     "text": [
      "AUC-ROC score: 0.989379777132725\n",
      "MSE score: 0.020185980635714428\n",
      "MAE score: 0.041322981589324154\n"
     ]
    }
   ],
   "source": [
    "print(f'AUC-ROC score: {auc_roc}')\n",
    "print(f'MSE score: {mse}')\n",
    "print(f'MAE score: {mae}')"
   ]
  },
  {
   "cell_type": "code",
   "execution_count": null,
   "metadata": {},
   "outputs": [],
   "source": [
    "nn_model.save('trained_model_president.h5')"
   ]
  }
 ],
 "metadata": {
  "kernelspec": {
   "display_name": "ml_main",
   "language": "python",
   "name": "python3"
  },
  "language_info": {
   "codemirror_mode": {
    "name": "ipython",
    "version": 3
   },
   "file_extension": ".py",
   "mimetype": "text/x-python",
   "name": "python",
   "nbconvert_exporter": "python",
   "pygments_lexer": "ipython3",
   "version": "3.9.17"
  },
  "orig_nbformat": 4
 },
 "nbformat": 4,
 "nbformat_minor": 2
}
