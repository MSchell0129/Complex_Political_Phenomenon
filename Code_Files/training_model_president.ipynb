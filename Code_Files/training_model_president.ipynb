{
 "cells": [
  {
   "cell_type": "code",
   "execution_count": 1,
   "metadata": {},
   "outputs": [],
   "source": [
    "# Import our dependencies\n",
    "from sklearn.model_selection import train_test_split\n",
    "from sklearn.preprocessing import StandardScaler\n",
    "from sklearn.metrics import accuracy_score, precision_score, recall_score, f1_score, roc_auc_score, mean_squared_error, mean_absolute_error\n",
    "import pandas as pd\n",
    "import numpy as np\n",
    "import tensorflow as tf\n",
    "import keras_tuner as kt\n",
    "import keras as kr\n"
   ]
  },
  {
   "cell_type": "code",
   "execution_count": 2,
   "metadata": {},
   "outputs": [
    {
     "data": {
      "text/html": [
       "<div>\n",
       "<style scoped>\n",
       "    .dataframe tbody tr th:only-of-type {\n",
       "        vertical-align: middle;\n",
       "    }\n",
       "\n",
       "    .dataframe tbody tr th {\n",
       "        vertical-align: top;\n",
       "    }\n",
       "\n",
       "    .dataframe thead th {\n",
       "        text-align: right;\n",
       "    }\n",
       "</style>\n",
       "<table border=\"1\" class=\"dataframe\">\n",
       "  <thead>\n",
       "    <tr style=\"text-align: right;\">\n",
       "      <th></th>\n",
       "      <th>samplesize</th>\n",
       "      <th>party</th>\n",
       "      <th>results</th>\n",
       "      <th>favorability</th>\n",
       "    </tr>\n",
       "  </thead>\n",
       "  <tbody>\n",
       "    <tr>\n",
       "      <th>0</th>\n",
       "      <td>1204.0</td>\n",
       "      <td>d</td>\n",
       "      <td>1.0</td>\n",
       "      <td>-22.0006</td>\n",
       "    </tr>\n",
       "    <tr>\n",
       "      <th>1</th>\n",
       "      <td>1553.0</td>\n",
       "      <td>d</td>\n",
       "      <td>1.0</td>\n",
       "      <td>-2.0001</td>\n",
       "    </tr>\n",
       "    <tr>\n",
       "      <th>2</th>\n",
       "      <td>838.0</td>\n",
       "      <td>d</td>\n",
       "      <td>1.0</td>\n",
       "      <td>-17.6672</td>\n",
       "    </tr>\n",
       "    <tr>\n",
       "      <th>3</th>\n",
       "      <td>1198.0</td>\n",
       "      <td>d</td>\n",
       "      <td>1.0</td>\n",
       "      <td>-20.3339</td>\n",
       "    </tr>\n",
       "    <tr>\n",
       "      <th>4</th>\n",
       "      <td>1859.0</td>\n",
       "      <td>d</td>\n",
       "      <td>1.0</td>\n",
       "      <td>-6.6670</td>\n",
       "    </tr>\n",
       "  </tbody>\n",
       "</table>\n",
       "</div>"
      ],
      "text/plain": [
       "  samplesize party  results  favorability\n",
       "0     1204.0     d      1.0      -22.0006\n",
       "1     1553.0     d      1.0       -2.0001\n",
       "2      838.0     d      1.0      -17.6672\n",
       "3     1198.0     d      1.0      -20.3339\n",
       "4     1859.0     d      1.0       -6.6670"
      ]
     },
     "execution_count": 2,
     "metadata": {},
     "output_type": "execute_result"
    }
   ],
   "source": [
    "biden_v_trump = pd.read_csv('../election_resources/historical_elections.csv')\n",
    "biden_v_trump.head()"
   ]
  },
  {
   "cell_type": "code",
   "execution_count": 3,
   "metadata": {},
   "outputs": [
    {
     "data": {
      "text/html": [
       "<div>\n",
       "<style scoped>\n",
       "    .dataframe tbody tr th:only-of-type {\n",
       "        vertical-align: middle;\n",
       "    }\n",
       "\n",
       "    .dataframe tbody tr th {\n",
       "        vertical-align: top;\n",
       "    }\n",
       "\n",
       "    .dataframe thead th {\n",
       "        text-align: right;\n",
       "    }\n",
       "</style>\n",
       "<table border=\"1\" class=\"dataframe\">\n",
       "  <thead>\n",
       "    <tr style=\"text-align: right;\">\n",
       "      <th></th>\n",
       "      <th>samplesize</th>\n",
       "      <th>party</th>\n",
       "      <th>results</th>\n",
       "      <th>favorability</th>\n",
       "    </tr>\n",
       "  </thead>\n",
       "  <tbody>\n",
       "    <tr>\n",
       "      <th>0</th>\n",
       "      <td>1204.0</td>\n",
       "      <td>d</td>\n",
       "      <td>1.0</td>\n",
       "      <td>-22.0006</td>\n",
       "    </tr>\n",
       "    <tr>\n",
       "      <th>1</th>\n",
       "      <td>1553.0</td>\n",
       "      <td>d</td>\n",
       "      <td>1.0</td>\n",
       "      <td>-2.0001</td>\n",
       "    </tr>\n",
       "    <tr>\n",
       "      <th>2</th>\n",
       "      <td>838.0</td>\n",
       "      <td>d</td>\n",
       "      <td>1.0</td>\n",
       "      <td>-17.6672</td>\n",
       "    </tr>\n",
       "    <tr>\n",
       "      <th>3</th>\n",
       "      <td>1198.0</td>\n",
       "      <td>d</td>\n",
       "      <td>1.0</td>\n",
       "      <td>-20.3339</td>\n",
       "    </tr>\n",
       "    <tr>\n",
       "      <th>4</th>\n",
       "      <td>1859.0</td>\n",
       "      <td>d</td>\n",
       "      <td>1.0</td>\n",
       "      <td>-6.6670</td>\n",
       "    </tr>\n",
       "  </tbody>\n",
       "</table>\n",
       "</div>"
      ],
      "text/plain": [
       "  samplesize party  results  favorability\n",
       "0     1204.0     d      1.0      -22.0006\n",
       "1     1553.0     d      1.0       -2.0001\n",
       "2      838.0     d      1.0      -17.6672\n",
       "3     1198.0     d      1.0      -20.3339\n",
       "4     1859.0     d      1.0       -6.6670"
      ]
     },
     "execution_count": 3,
     "metadata": {},
     "output_type": "execute_result"
    }
   ],
   "source": [
    "biden_v_trump.head()"
   ]
  },
  {
   "cell_type": "code",
   "execution_count": 4,
   "metadata": {},
   "outputs": [
    {
     "data": {
      "text/plain": [
       "Index(['samplesize', 'party', 'results', 'favorability'], dtype='object')"
      ]
     },
     "execution_count": 4,
     "metadata": {},
     "output_type": "execute_result"
    }
   ],
   "source": [
    "biden_v_trump.columns"
   ]
  },
  {
   "cell_type": "code",
   "execution_count": 5,
   "metadata": {},
   "outputs": [
    {
     "data": {
      "text/plain": [
       "samplesize       795\n",
       "party              2\n",
       "results            2\n",
       "favorability    6335\n",
       "dtype: int64"
      ]
     },
     "execution_count": 5,
     "metadata": {},
     "output_type": "execute_result"
    }
   ],
   "source": [
    "biden_v_trump.nunique()"
   ]
  },
  {
   "cell_type": "code",
   "execution_count": 6,
   "metadata": {},
   "outputs": [
    {
     "data": {
      "text/plain": [
       "(6443, 4)"
      ]
     },
     "execution_count": 6,
     "metadata": {},
     "output_type": "execute_result"
    }
   ],
   "source": [
    "biden_v_trump.shape"
   ]
  },
  {
   "cell_type": "code",
   "execution_count": 7,
   "metadata": {},
   "outputs": [
    {
     "data": {
      "text/html": [
       "<div>\n",
       "<style scoped>\n",
       "    .dataframe tbody tr th:only-of-type {\n",
       "        vertical-align: middle;\n",
       "    }\n",
       "\n",
       "    .dataframe tbody tr th {\n",
       "        vertical-align: top;\n",
       "    }\n",
       "\n",
       "    .dataframe thead th {\n",
       "        text-align: right;\n",
       "    }\n",
       "</style>\n",
       "<table border=\"1\" class=\"dataframe\">\n",
       "  <thead>\n",
       "    <tr style=\"text-align: right;\">\n",
       "      <th></th>\n",
       "      <th>results</th>\n",
       "      <th>favorability</th>\n",
       "      <th>samplesize_1000.0</th>\n",
       "      <th>samplesize_1001.0</th>\n",
       "      <th>samplesize_1002.0</th>\n",
       "      <th>samplesize_1003.0</th>\n",
       "      <th>samplesize_1004.0</th>\n",
       "      <th>samplesize_1005.0</th>\n",
       "      <th>samplesize_1006.0</th>\n",
       "      <th>samplesize_1007.0</th>\n",
       "      <th>...</th>\n",
       "      <th>samplesize_990.0</th>\n",
       "      <th>samplesize_992.0</th>\n",
       "      <th>samplesize_993.0</th>\n",
       "      <th>samplesize_994.0</th>\n",
       "      <th>samplesize_997.0</th>\n",
       "      <th>samplesize_&lt;&lt;&lt;&lt;&lt;&lt;&lt; HEAD</th>\n",
       "      <th>samplesize_=======</th>\n",
       "      <th>samplesize_&gt;&gt;&gt;&gt;&gt;&gt;&gt; c6fdee4765df870028d1ec168a99f34f4635955b</th>\n",
       "      <th>party_d</th>\n",
       "      <th>party_r</th>\n",
       "    </tr>\n",
       "  </thead>\n",
       "  <tbody>\n",
       "    <tr>\n",
       "      <th>0</th>\n",
       "      <td>1.0</td>\n",
       "      <td>-22.0006</td>\n",
       "      <td>0.0</td>\n",
       "      <td>0.0</td>\n",
       "      <td>0.0</td>\n",
       "      <td>0.0</td>\n",
       "      <td>0.0</td>\n",
       "      <td>0.0</td>\n",
       "      <td>0.0</td>\n",
       "      <td>0.0</td>\n",
       "      <td>...</td>\n",
       "      <td>0.0</td>\n",
       "      <td>0.0</td>\n",
       "      <td>0.0</td>\n",
       "      <td>0.0</td>\n",
       "      <td>0.0</td>\n",
       "      <td>0.0</td>\n",
       "      <td>0.0</td>\n",
       "      <td>0.0</td>\n",
       "      <td>1.0</td>\n",
       "      <td>0.0</td>\n",
       "    </tr>\n",
       "    <tr>\n",
       "      <th>1</th>\n",
       "      <td>1.0</td>\n",
       "      <td>-2.0001</td>\n",
       "      <td>0.0</td>\n",
       "      <td>0.0</td>\n",
       "      <td>0.0</td>\n",
       "      <td>0.0</td>\n",
       "      <td>0.0</td>\n",
       "      <td>0.0</td>\n",
       "      <td>0.0</td>\n",
       "      <td>0.0</td>\n",
       "      <td>...</td>\n",
       "      <td>0.0</td>\n",
       "      <td>0.0</td>\n",
       "      <td>0.0</td>\n",
       "      <td>0.0</td>\n",
       "      <td>0.0</td>\n",
       "      <td>0.0</td>\n",
       "      <td>0.0</td>\n",
       "      <td>0.0</td>\n",
       "      <td>1.0</td>\n",
       "      <td>0.0</td>\n",
       "    </tr>\n",
       "    <tr>\n",
       "      <th>2</th>\n",
       "      <td>1.0</td>\n",
       "      <td>-17.6672</td>\n",
       "      <td>0.0</td>\n",
       "      <td>0.0</td>\n",
       "      <td>0.0</td>\n",
       "      <td>0.0</td>\n",
       "      <td>0.0</td>\n",
       "      <td>0.0</td>\n",
       "      <td>0.0</td>\n",
       "      <td>0.0</td>\n",
       "      <td>...</td>\n",
       "      <td>0.0</td>\n",
       "      <td>0.0</td>\n",
       "      <td>0.0</td>\n",
       "      <td>0.0</td>\n",
       "      <td>0.0</td>\n",
       "      <td>0.0</td>\n",
       "      <td>0.0</td>\n",
       "      <td>0.0</td>\n",
       "      <td>1.0</td>\n",
       "      <td>0.0</td>\n",
       "    </tr>\n",
       "    <tr>\n",
       "      <th>3</th>\n",
       "      <td>1.0</td>\n",
       "      <td>-20.3339</td>\n",
       "      <td>0.0</td>\n",
       "      <td>0.0</td>\n",
       "      <td>0.0</td>\n",
       "      <td>0.0</td>\n",
       "      <td>0.0</td>\n",
       "      <td>0.0</td>\n",
       "      <td>0.0</td>\n",
       "      <td>0.0</td>\n",
       "      <td>...</td>\n",
       "      <td>0.0</td>\n",
       "      <td>0.0</td>\n",
       "      <td>0.0</td>\n",
       "      <td>0.0</td>\n",
       "      <td>0.0</td>\n",
       "      <td>0.0</td>\n",
       "      <td>0.0</td>\n",
       "      <td>0.0</td>\n",
       "      <td>1.0</td>\n",
       "      <td>0.0</td>\n",
       "    </tr>\n",
       "    <tr>\n",
       "      <th>4</th>\n",
       "      <td>1.0</td>\n",
       "      <td>-6.6670</td>\n",
       "      <td>0.0</td>\n",
       "      <td>0.0</td>\n",
       "      <td>0.0</td>\n",
       "      <td>0.0</td>\n",
       "      <td>0.0</td>\n",
       "      <td>0.0</td>\n",
       "      <td>0.0</td>\n",
       "      <td>0.0</td>\n",
       "      <td>...</td>\n",
       "      <td>0.0</td>\n",
       "      <td>0.0</td>\n",
       "      <td>0.0</td>\n",
       "      <td>0.0</td>\n",
       "      <td>0.0</td>\n",
       "      <td>0.0</td>\n",
       "      <td>0.0</td>\n",
       "      <td>0.0</td>\n",
       "      <td>1.0</td>\n",
       "      <td>0.0</td>\n",
       "    </tr>\n",
       "  </tbody>\n",
       "</table>\n",
       "<p>5 rows × 799 columns</p>\n",
       "</div>"
      ],
      "text/plain": [
       "   results  favorability  samplesize_1000.0  samplesize_1001.0  \\\n",
       "0      1.0      -22.0006                0.0                0.0   \n",
       "1      1.0       -2.0001                0.0                0.0   \n",
       "2      1.0      -17.6672                0.0                0.0   \n",
       "3      1.0      -20.3339                0.0                0.0   \n",
       "4      1.0       -6.6670                0.0                0.0   \n",
       "\n",
       "   samplesize_1002.0  samplesize_1003.0  samplesize_1004.0  samplesize_1005.0  \\\n",
       "0                0.0                0.0                0.0                0.0   \n",
       "1                0.0                0.0                0.0                0.0   \n",
       "2                0.0                0.0                0.0                0.0   \n",
       "3                0.0                0.0                0.0                0.0   \n",
       "4                0.0                0.0                0.0                0.0   \n",
       "\n",
       "   samplesize_1006.0  samplesize_1007.0  ...  samplesize_990.0  \\\n",
       "0                0.0                0.0  ...               0.0   \n",
       "1                0.0                0.0  ...               0.0   \n",
       "2                0.0                0.0  ...               0.0   \n",
       "3                0.0                0.0  ...               0.0   \n",
       "4                0.0                0.0  ...               0.0   \n",
       "\n",
       "   samplesize_992.0  samplesize_993.0  samplesize_994.0  samplesize_997.0  \\\n",
       "0               0.0               0.0               0.0               0.0   \n",
       "1               0.0               0.0               0.0               0.0   \n",
       "2               0.0               0.0               0.0               0.0   \n",
       "3               0.0               0.0               0.0               0.0   \n",
       "4               0.0               0.0               0.0               0.0   \n",
       "\n",
       "   samplesize_<<<<<<< HEAD  samplesize_=======  \\\n",
       "0                      0.0                 0.0   \n",
       "1                      0.0                 0.0   \n",
       "2                      0.0                 0.0   \n",
       "3                      0.0                 0.0   \n",
       "4                      0.0                 0.0   \n",
       "\n",
       "   samplesize_>>>>>>> c6fdee4765df870028d1ec168a99f34f4635955b  party_d  \\\n",
       "0                                                0.0                1.0   \n",
       "1                                                0.0                1.0   \n",
       "2                                                0.0                1.0   \n",
       "3                                                0.0                1.0   \n",
       "4                                                0.0                1.0   \n",
       "\n",
       "   party_r  \n",
       "0      0.0  \n",
       "1      0.0  \n",
       "2      0.0  \n",
       "3      0.0  \n",
       "4      0.0  \n",
       "\n",
       "[5 rows x 799 columns]"
      ]
     },
     "execution_count": 7,
     "metadata": {},
     "output_type": "execute_result"
    }
   ],
   "source": [
    "biden_v_trump = pd.get_dummies(biden_v_trump, dtype=float)\n",
    "biden_v_trump.head()"
   ]
  },
  {
   "cell_type": "code",
   "execution_count": 8,
   "metadata": {},
   "outputs": [],
   "source": [
    "biden_v_trump.fillna(0, inplace=True)"
   ]
  },
  {
   "cell_type": "code",
   "execution_count": 9,
   "metadata": {},
   "outputs": [
    {
     "data": {
      "text/plain": [
       "(6443, 799)"
      ]
     },
     "execution_count": 9,
     "metadata": {},
     "output_type": "execute_result"
    }
   ],
   "source": [
    "biden_v_trump.shape"
   ]
  },
  {
   "cell_type": "code",
   "execution_count": 10,
   "metadata": {},
   "outputs": [],
   "source": [
    "y = biden_v_trump['results'].values\n",
    "X = biden_v_trump.drop(['results'], axis=1).values\n",
    "X_train, X_test, y_train, y_test = train_test_split(X, y, test_size=0.25, random_state=21)"
   ]
  },
  {
   "cell_type": "code",
   "execution_count": 11,
   "metadata": {},
   "outputs": [],
   "source": [
    "scaler = StandardScaler()\n",
    "X_scaler = scaler.fit(X_train)\n",
    "X_scaled = X_scaler.transform(X_train)\n",
    "X_test_scaled = X_scaler.transform(X_test)"
   ]
  },
  {
   "cell_type": "code",
   "execution_count": 12,
   "metadata": {},
   "outputs": [
    {
     "data": {
      "text/plain": [
       "(4832, 798)"
      ]
     },
     "execution_count": 12,
     "metadata": {},
     "output_type": "execute_result"
    }
   ],
   "source": [
    "X_scaled.shape"
   ]
  },
  {
   "cell_type": "code",
   "execution_count": 13,
   "metadata": {},
   "outputs": [],
   "source": [
    "def create_model(hp):\n",
    "    nn_model = tf.keras.models.Sequential()\n",
    "    activation = hp.Choice('activation', ['tanh', 'sigmoid', 'leaky_relu', 'elu', 'selu', 'PReLU'])\n",
    "    nn_model.add(tf.keras.layers.Dense(units=hp.Int('first_units',\n",
    "                                        min_value=1,\n",
    "                                        max_value=100,\n",
    "                                        step=2), activation=activation, input_dim=len(X_scaled[0])))\n",
    "    for i in range(hp.Int('num_layers', 1, 10)):\n",
    "        nn_model.add(tf.keras.layers.Dense(units=hp.Int('units_' + str(i),\n",
    "                                        min_value=1,\n",
    "                                        max_value=100,\n",
    "                                        step=2), activation=activation))\n",
    "    nn_model.add(tf.keras.layers.Dense(units=1, activation=\"sigmoid\"))\n",
    "    loss = hp.Choice('loss', ['binary_crossentropy', 'mse'])\n",
    "    optimizer = hp.Choice('optimizer', ['adam', 'rmsprop', 'sgd', 'adagrad', 'adadelta', 'adamax', 'nadam'])\n",
    "    nn_model.compile(loss=loss, optimizer=optimizer, metrics=[\"accuracy\"])\n",
    "    \n",
    "    return nn_model"
   ]
  },
  {
   "cell_type": "code",
   "execution_count": 14,
   "metadata": {},
   "outputs": [],
   "source": [
    "tuner = kt.Hyperband(create_model, objective='val_accuracy', max_epochs=20, hyperband_iterations=10, directory='my_dir2', project_name='intro_to_kt')"
   ]
  },
  {
   "cell_type": "code",
   "execution_count": 15,
   "metadata": {},
   "outputs": [
    {
     "name": "stdout",
     "output_type": "stream",
     "text": [
      "Trial 300 Complete [00h 00m 23s]\n",
      "val_accuracy: 0.9373060464859009\n",
      "\n",
      "Best val_accuracy So Far: 0.9813780188560486\n",
      "Total elapsed time: 01h 00m 52s\n",
      "INFO:tensorflow:Oracle triggered exit\n"
     ]
    }
   ],
   "source": [
    "tuner.search(X_scaled, y_train, epochs=20, validation_data=(X_test_scaled, y_test))"
   ]
  },
  {
   "cell_type": "code",
   "execution_count": 16,
   "metadata": {},
   "outputs": [
    {
     "data": {
      "text/plain": [
       "{'activation': 'selu',\n",
       " 'first_units': 31,\n",
       " 'num_layers': 8,\n",
       " 'units_0': 55,\n",
       " 'loss': 'mse',\n",
       " 'optimizer': 'rmsprop',\n",
       " 'units_1': 99,\n",
       " 'units_2': 63,\n",
       " 'units_3': 63,\n",
       " 'units_4': 75,\n",
       " 'units_5': 79,\n",
       " 'units_6': 13,\n",
       " 'units_7': 17,\n",
       " 'units_8': 55,\n",
       " 'units_9': 89,\n",
       " 'tuner/epochs': 20,\n",
       " 'tuner/initial_epoch': 0,\n",
       " 'tuner/bracket': 0,\n",
       " 'tuner/round': 0}"
      ]
     },
     "execution_count": 16,
     "metadata": {},
     "output_type": "execute_result"
    }
   ],
   "source": [
    "best_hyper = tuner.get_best_hyperparameters(1)[0]\n",
    "best_hyper.values"
   ]
  },
  {
   "cell_type": "code",
   "execution_count": 17,
   "metadata": {},
   "outputs": [
    {
     "name": "stdout",
     "output_type": "stream",
     "text": [
      "51/51 - 0s - loss: 0.0185 - accuracy: 0.9814 - 396ms/epoch - 8ms/step\n",
      "Loss: 0.018457189202308655, Accuracy: 0.9813780188560486\n"
     ]
    }
   ],
   "source": [
    "# Evaluate best model against full test data\n",
    "best_model = tuner.get_best_models(1)[0]\n",
    "model_loss, model_accuracy = best_model.evaluate(X_test_scaled,y_test,verbose=2)\n",
    "print(f\"Loss: {model_loss}, Accuracy: {model_accuracy}\")"
   ]
  },
  {
   "cell_type": "code",
   "execution_count": 18,
   "metadata": {},
   "outputs": [
    {
     "name": "stdout",
     "output_type": "stream",
     "text": [
      "Model: \"sequential_1\"\n",
      "_________________________________________________________________\n",
      " Layer (type)                Output Shape              Param #   \n",
      "=================================================================\n",
      " dense_10 (Dense)            (None, 55)                43945     \n",
      "                                                                 \n",
      " dense_11 (Dense)            (None, 99)                5544      \n",
      "                                                                 \n",
      " dense_12 (Dense)            (None, 63)                6300      \n",
      "                                                                 \n",
      " dense_13 (Dense)            (None, 63)                4032      \n",
      "                                                                 \n",
      " dense_14 (Dense)            (None, 75)                4800      \n",
      "                                                                 \n",
      " dense_15 (Dense)            (None, 79)                6004      \n",
      "                                                                 \n",
      " dense_16 (Dense)            (None, 13)                1040      \n",
      "                                                                 \n",
      " dense_17 (Dense)            (None, 17)                238       \n",
      "                                                                 \n",
      " dense_18 (Dense)            (None, 55)                990       \n",
      "                                                                 \n",
      " dense_19 (Dense)            (None, 89)                4984      \n",
      "                                                                 \n",
      " dense_20 (Dense)            (None, 1)                 90        \n",
      "                                                                 \n",
      "=================================================================\n",
      "Total params: 77,967\n",
      "Trainable params: 77,967\n",
      "Non-trainable params: 0\n",
      "_________________________________________________________________\n"
     ]
    }
   ],
   "source": [
    "# Define the model - deep neural net, i.e., the number of input features and hidden nodes for each layer.\n",
    "number_input_features = len(X_scaled[0])\n",
    "hidden_nodes_layer1 =  55\n",
    "hidden_nodes_layer2 = 99\n",
    "hidden_nodes_layer3 = 63\n",
    "hidden_nodes_layer4 = 63\n",
    "hidden_nodes_layer5 = 75\n",
    "hidden_nodes_layer6 = 79\n",
    "hidden_nodes_layer7 = 13\n",
    "hidden_nodes_layer8 = 17\n",
    "hidden_nodes_layer9 = 55\n",
    "hidden_nodes_layer10 = 89\n",
    "\n",
    "\n",
    "\n",
    "\n",
    "output_dim = 1\n",
    "\n",
    "\n",
    "\n",
    "nn_model = tf.keras.models.Sequential()\n",
    "\n",
    "# First hidden layer\n",
    "nn_model.add(tf.keras.layers.Dense(units=hidden_nodes_layer1, input_dim=number_input_features, activation=\"selu\"))\n",
    "\n",
    "# Second hidden layer\n",
    "nn_model.add(tf.keras.layers.Dense(units=hidden_nodes_layer2, activation=\"selu\"))\n",
    "nn_model.add(tf.keras.layers.Dense(units=hidden_nodes_layer3, activation=\"selu\"))\n",
    "nn_model.add(tf.keras.layers.Dense(units=hidden_nodes_layer4, activation=\"selu\"))\n",
    "nn_model.add(tf.keras.layers.Dense(units=hidden_nodes_layer5, activation=\"selu\"))\n",
    "nn_model.add(tf.keras.layers.Dense(units=hidden_nodes_layer6, activation=\"selu\"))\n",
    "nn_model.add(tf.keras.layers.Dense(units=hidden_nodes_layer7, activation=\"selu\"))\n",
    "nn_model.add(tf.keras.layers.Dense(units=hidden_nodes_layer8, activation=\"selu\"))\n",
    "nn_model.add(tf.keras.layers.Dense(units=hidden_nodes_layer9, activation=\"selu\"))\n",
    "nn_model.add(tf.keras.layers.Dense(units=hidden_nodes_layer10, activation=\"selu\"))\n",
    "\n",
    "\n",
    "\n",
    "\n",
    "\n",
    "\n",
    "\n",
    "# Output layer\n",
    "nn_model.add(tf.keras.layers.Dense(output_dim, activation=\"sigmoid\"))\n",
    "\n",
    "# Check the structure of the model\n",
    "nn_model.summary()"
   ]
  },
  {
   "cell_type": "code",
   "execution_count": 19,
   "metadata": {},
   "outputs": [],
   "source": [
    "nn_model.compile(loss='mse', optimizer='rmsprop', metrics=[\"accuracy\"])"
   ]
  },
  {
   "cell_type": "code",
   "execution_count": 20,
   "metadata": {},
   "outputs": [
    {
     "name": "stdout",
     "output_type": "stream",
     "text": [
      "Epoch 1/100\n",
      "151/151 [==============================] - 2s 10ms/step - loss: 0.1517 - accuracy: 0.7792\n",
      "Epoch 2/100\n",
      "151/151 [==============================] - 1s 9ms/step - loss: 0.0442 - accuracy: 0.9491\n",
      "Epoch 3/100\n",
      "151/151 [==============================] - 1s 9ms/step - loss: 0.0306 - accuracy: 0.9671\n",
      "Epoch 4/100\n",
      "151/151 [==============================] - 1s 9ms/step - loss: 0.0247 - accuracy: 0.9735\n",
      "Epoch 5/100\n",
      "151/151 [==============================] - 1s 8ms/step - loss: 0.0224 - accuracy: 0.9758\n",
      "Epoch 6/100\n",
      "151/151 [==============================] - 1s 8ms/step - loss: 0.0200 - accuracy: 0.9781\n",
      "Epoch 7/100\n",
      "151/151 [==============================] - 1s 8ms/step - loss: 0.0172 - accuracy: 0.9803\n",
      "Epoch 8/100\n",
      "151/151 [==============================] - 1s 8ms/step - loss: 0.0153 - accuracy: 0.9832\n",
      "Epoch 9/100\n",
      "151/151 [==============================] - 1s 8ms/step - loss: 0.0162 - accuracy: 0.9818\n",
      "Epoch 10/100\n",
      "151/151 [==============================] - 1s 8ms/step - loss: 0.0135 - accuracy: 0.9853\n",
      "Epoch 11/100\n",
      "151/151 [==============================] - 1s 9ms/step - loss: 0.0132 - accuracy: 0.9849\n",
      "Epoch 12/100\n",
      "151/151 [==============================] - 1s 9ms/step - loss: 0.0127 - accuracy: 0.9859\n",
      "Epoch 13/100\n",
      "151/151 [==============================] - 1s 8ms/step - loss: 0.0108 - accuracy: 0.9882\n",
      "Epoch 14/100\n",
      "151/151 [==============================] - 1s 9ms/step - loss: 0.0118 - accuracy: 0.9857\n",
      "Epoch 15/100\n",
      "151/151 [==============================] - 1s 9ms/step - loss: 0.0103 - accuracy: 0.9890\n",
      "Epoch 16/100\n",
      "151/151 [==============================] - 1s 8ms/step - loss: 0.0116 - accuracy: 0.9861\n",
      "Epoch 17/100\n",
      "151/151 [==============================] - 1s 8ms/step - loss: 0.0088 - accuracy: 0.9901\n",
      "Epoch 18/100\n",
      "151/151 [==============================] - 1s 8ms/step - loss: 0.0086 - accuracy: 0.9899\n",
      "Epoch 19/100\n",
      "151/151 [==============================] - 1s 8ms/step - loss: 0.0081 - accuracy: 0.9909\n",
      "Epoch 20/100\n",
      "151/151 [==============================] - 1s 9ms/step - loss: 0.0085 - accuracy: 0.9907\n",
      "Epoch 21/100\n",
      "151/151 [==============================] - 1s 8ms/step - loss: 0.0090 - accuracy: 0.9884\n",
      "Epoch 22/100\n",
      "151/151 [==============================] - 1s 8ms/step - loss: 0.0084 - accuracy: 0.9903\n",
      "Epoch 23/100\n",
      "151/151 [==============================] - 1s 7ms/step - loss: 0.0075 - accuracy: 0.9913\n",
      "Epoch 24/100\n",
      "151/151 [==============================] - 1s 8ms/step - loss: 0.0083 - accuracy: 0.9899\n",
      "Epoch 25/100\n",
      "151/151 [==============================] - 1s 8ms/step - loss: 0.0073 - accuracy: 0.9907\n",
      "Epoch 26/100\n",
      "151/151 [==============================] - 1s 7ms/step - loss: 0.0071 - accuracy: 0.9921\n",
      "Epoch 27/100\n",
      "151/151 [==============================] - 1s 8ms/step - loss: 0.0068 - accuracy: 0.9917\n",
      "Epoch 28/100\n",
      "151/151 [==============================] - 1s 7ms/step - loss: 0.0072 - accuracy: 0.9919\n",
      "Epoch 29/100\n",
      "151/151 [==============================] - 1s 7ms/step - loss: 0.0070 - accuracy: 0.9919\n",
      "Epoch 30/100\n",
      "151/151 [==============================] - 1s 8ms/step - loss: 0.0068 - accuracy: 0.9919\n",
      "Epoch 31/100\n",
      "151/151 [==============================] - 1s 7ms/step - loss: 0.0060 - accuracy: 0.9917\n",
      "Epoch 32/100\n",
      "151/151 [==============================] - 1s 8ms/step - loss: 0.0061 - accuracy: 0.9921\n",
      "Epoch 33/100\n",
      "151/151 [==============================] - 1s 8ms/step - loss: 0.0065 - accuracy: 0.9921\n",
      "Epoch 34/100\n",
      "151/151 [==============================] - 1s 8ms/step - loss: 0.0057 - accuracy: 0.9932\n",
      "Epoch 35/100\n",
      "151/151 [==============================] - 1s 7ms/step - loss: 0.0060 - accuracy: 0.9936\n",
      "Epoch 36/100\n",
      "151/151 [==============================] - 1s 7ms/step - loss: 0.0046 - accuracy: 0.9948\n",
      "Epoch 37/100\n",
      "151/151 [==============================] - 1s 7ms/step - loss: 0.0046 - accuracy: 0.9948\n",
      "Epoch 38/100\n",
      "151/151 [==============================] - 1s 8ms/step - loss: 0.0053 - accuracy: 0.9942\n",
      "Epoch 39/100\n",
      "151/151 [==============================] - 1s 8ms/step - loss: 0.0061 - accuracy: 0.9921\n",
      "Epoch 40/100\n",
      "151/151 [==============================] - 1s 8ms/step - loss: 0.0051 - accuracy: 0.9932\n",
      "Epoch 41/100\n",
      "151/151 [==============================] - 1s 8ms/step - loss: 0.0067 - accuracy: 0.9925\n",
      "Epoch 42/100\n",
      "151/151 [==============================] - 1s 8ms/step - loss: 0.0047 - accuracy: 0.9942\n",
      "Epoch 43/100\n",
      "151/151 [==============================] - 1s 8ms/step - loss: 0.0053 - accuracy: 0.9936\n",
      "Epoch 44/100\n",
      "151/151 [==============================] - 1s 8ms/step - loss: 0.0056 - accuracy: 0.9932\n",
      "Epoch 45/100\n",
      "151/151 [==============================] - 1s 8ms/step - loss: 0.0048 - accuracy: 0.9942\n",
      "Epoch 46/100\n",
      "151/151 [==============================] - 1s 8ms/step - loss: 0.0056 - accuracy: 0.9934\n",
      "Epoch 47/100\n",
      "151/151 [==============================] - 1s 8ms/step - loss: 0.0049 - accuracy: 0.9938\n",
      "Epoch 48/100\n",
      "151/151 [==============================] - 1s 8ms/step - loss: 0.0048 - accuracy: 0.9938\n",
      "Epoch 49/100\n",
      "151/151 [==============================] - 1s 8ms/step - loss: 0.0050 - accuracy: 0.9938\n",
      "Epoch 50/100\n",
      "151/151 [==============================] - 1s 8ms/step - loss: 0.0052 - accuracy: 0.9938\n",
      "Epoch 51/100\n",
      "151/151 [==============================] - 1s 8ms/step - loss: 0.0045 - accuracy: 0.9950\n",
      "Epoch 52/100\n",
      "151/151 [==============================] - 1s 8ms/step - loss: 0.0043 - accuracy: 0.9950\n",
      "Epoch 53/100\n",
      "151/151 [==============================] - 1s 9ms/step - loss: 0.0047 - accuracy: 0.9946\n",
      "Epoch 54/100\n",
      "151/151 [==============================] - 1s 8ms/step - loss: 0.0046 - accuracy: 0.9950\n",
      "Epoch 55/100\n",
      "151/151 [==============================] - 1s 8ms/step - loss: 0.0048 - accuracy: 0.9948\n",
      "Epoch 56/100\n",
      "151/151 [==============================] - 1s 8ms/step - loss: 0.0057 - accuracy: 0.9930\n",
      "Epoch 57/100\n",
      "151/151 [==============================] - 1s 8ms/step - loss: 0.0048 - accuracy: 0.9942\n",
      "Epoch 58/100\n",
      "151/151 [==============================] - 1s 8ms/step - loss: 0.0048 - accuracy: 0.9940\n",
      "Epoch 59/100\n",
      "151/151 [==============================] - 1s 9ms/step - loss: 0.0050 - accuracy: 0.9942\n",
      "Epoch 60/100\n",
      "151/151 [==============================] - 1s 9ms/step - loss: 0.0045 - accuracy: 0.9950\n",
      "Epoch 61/100\n",
      "151/151 [==============================] - 1s 8ms/step - loss: 0.0041 - accuracy: 0.9950\n",
      "Epoch 62/100\n",
      "151/151 [==============================] - 1s 8ms/step - loss: 0.0045 - accuracy: 0.9946\n",
      "Epoch 63/100\n",
      "151/151 [==============================] - 1s 8ms/step - loss: 0.0042 - accuracy: 0.9948\n",
      "Epoch 64/100\n",
      "151/151 [==============================] - 1s 8ms/step - loss: 0.0044 - accuracy: 0.9950\n",
      "Epoch 65/100\n",
      "151/151 [==============================] - 1s 8ms/step - loss: 0.0052 - accuracy: 0.9942\n",
      "Epoch 66/100\n",
      "151/151 [==============================] - 1s 8ms/step - loss: 0.0056 - accuracy: 0.9934\n",
      "Epoch 67/100\n",
      "151/151 [==============================] - 1s 8ms/step - loss: 0.0044 - accuracy: 0.9952\n",
      "Epoch 68/100\n",
      "151/151 [==============================] - 1s 8ms/step - loss: 0.0045 - accuracy: 0.9944\n",
      "Epoch 69/100\n",
      "151/151 [==============================] - 1s 8ms/step - loss: 0.0045 - accuracy: 0.9950\n",
      "Epoch 70/100\n",
      "151/151 [==============================] - 1s 8ms/step - loss: 0.0047 - accuracy: 0.9942\n",
      "Epoch 71/100\n",
      "151/151 [==============================] - 1s 8ms/step - loss: 0.0050 - accuracy: 0.9940\n",
      "Epoch 72/100\n",
      "151/151 [==============================] - 1s 8ms/step - loss: 0.0050 - accuracy: 0.9940\n",
      "Epoch 73/100\n",
      "151/151 [==============================] - 1s 8ms/step - loss: 0.0043 - accuracy: 0.9952\n",
      "Epoch 74/100\n",
      "151/151 [==============================] - 1s 9ms/step - loss: 0.0044 - accuracy: 0.9948\n",
      "Epoch 75/100\n",
      "151/151 [==============================] - 1s 8ms/step - loss: 0.0045 - accuracy: 0.9952\n",
      "Epoch 76/100\n",
      "151/151 [==============================] - 1s 8ms/step - loss: 0.0043 - accuracy: 0.9946\n",
      "Epoch 77/100\n",
      "151/151 [==============================] - 1s 8ms/step - loss: 0.0040 - accuracy: 0.9948\n",
      "Epoch 78/100\n",
      "151/151 [==============================] - 1s 9ms/step - loss: 0.0048 - accuracy: 0.9940\n",
      "Epoch 79/100\n",
      "151/151 [==============================] - 1s 9ms/step - loss: 0.0050 - accuracy: 0.9934\n",
      "Epoch 80/100\n",
      "151/151 [==============================] - 1s 8ms/step - loss: 0.0043 - accuracy: 0.9950\n",
      "Epoch 81/100\n",
      "151/151 [==============================] - 1s 8ms/step - loss: 0.0043 - accuracy: 0.9940\n",
      "Epoch 82/100\n",
      "151/151 [==============================] - 1s 8ms/step - loss: 0.0045 - accuracy: 0.9944\n",
      "Epoch 83/100\n",
      "151/151 [==============================] - 1s 9ms/step - loss: 0.0047 - accuracy: 0.9942\n",
      "Epoch 84/100\n",
      "151/151 [==============================] - 1s 8ms/step - loss: 0.0042 - accuracy: 0.9952\n",
      "Epoch 85/100\n",
      "151/151 [==============================] - 1s 8ms/step - loss: 0.0039 - accuracy: 0.9952\n",
      "Epoch 86/100\n",
      "151/151 [==============================] - 1s 8ms/step - loss: 0.0043 - accuracy: 0.9950\n",
      "Epoch 87/100\n",
      "151/151 [==============================] - 1s 8ms/step - loss: 0.0042 - accuracy: 0.9948\n",
      "Epoch 88/100\n",
      "151/151 [==============================] - 1s 8ms/step - loss: 0.0044 - accuracy: 0.9948\n",
      "Epoch 89/100\n",
      "151/151 [==============================] - 1s 8ms/step - loss: 0.0052 - accuracy: 0.9928\n",
      "Epoch 90/100\n",
      "151/151 [==============================] - 1s 8ms/step - loss: 0.0053 - accuracy: 0.9928\n",
      "Epoch 91/100\n",
      "151/151 [==============================] - 1s 8ms/step - loss: 0.0046 - accuracy: 0.9946\n",
      "Epoch 92/100\n",
      "151/151 [==============================] - 1s 8ms/step - loss: 0.0039 - accuracy: 0.9954\n",
      "Epoch 93/100\n",
      "151/151 [==============================] - 1s 8ms/step - loss: 0.0045 - accuracy: 0.9948\n",
      "Epoch 94/100\n",
      "151/151 [==============================] - 1s 8ms/step - loss: 0.0046 - accuracy: 0.9940\n",
      "Epoch 95/100\n",
      "151/151 [==============================] - 1s 8ms/step - loss: 0.0043 - accuracy: 0.9950\n",
      "Epoch 96/100\n",
      "151/151 [==============================] - 1s 9ms/step - loss: 0.0045 - accuracy: 0.9946\n",
      "Epoch 97/100\n",
      "151/151 [==============================] - 1s 9ms/step - loss: 0.0045 - accuracy: 0.9944\n",
      "Epoch 98/100\n",
      "151/151 [==============================] - 1s 9ms/step - loss: 0.0043 - accuracy: 0.9944\n",
      "Epoch 99/100\n",
      "151/151 [==============================] - 1s 8ms/step - loss: 0.0047 - accuracy: 0.9944\n",
      "Epoch 100/100\n",
      "151/151 [==============================] - 1s 8ms/step - loss: 0.0053 - accuracy: 0.9934\n"
     ]
    }
   ],
   "source": [
    "\n",
    "# Train the model\n",
    "fit_model = nn_model.fit(X_scaled, y_train, epochs=100, initial_epoch= 0)"
   ]
  },
  {
   "cell_type": "code",
   "execution_count": 21,
   "metadata": {},
   "outputs": [
    {
     "name": "stdout",
     "output_type": "stream",
     "text": [
      "51/51 - 0s - loss: 0.0306 - accuracy: 0.9628 - 309ms/epoch - 6ms/step\n",
      "Loss: 0.03064206801354885, Accuracy: 0.9627560377120972\n"
     ]
    }
   ],
   "source": [
    "# Evaluate the model using the test data\n",
    "model_loss, model_accuracy = nn_model.evaluate(X_test_scaled,y_test,verbose=2)\n",
    "print(f\"Loss: {model_loss}, Accuracy: {model_accuracy}\")"
   ]
  },
  {
   "cell_type": "code",
   "execution_count": 22,
   "metadata": {},
   "outputs": [
    {
     "name": "stdout",
     "output_type": "stream",
     "text": [
      "51/51 [==============================] - 0s 3ms/step\n"
     ]
    }
   ],
   "source": [
    "predictions = nn_model.predict(X_test_scaled)"
   ]
  },
  {
   "cell_type": "code",
   "execution_count": 23,
   "metadata": {},
   "outputs": [],
   "source": [
    "\n",
    "# Assuming y_true contains the true labels and y_pred contains the predicted labels\n",
    "\n",
    "#accuracy = accuracy_score(y_test, predictions)\n",
    "#precision = precision_score(y_test, predictions)\n",
    "#recall = recall_score(y_test, predictions)\n",
    "#f1 = f1_score(y_test, predictions)\n",
    "auc_roc = roc_auc_score(y_test, predictions)\n",
    "mse = mean_squared_error(y_test, predictions)\n",
    "mae = mean_absolute_error(y_test, predictions)\n"
   ]
  },
  {
   "cell_type": "code",
   "execution_count": 24,
   "metadata": {},
   "outputs": [
    {
     "name": "stdout",
     "output_type": "stream",
     "text": [
      "AUC-ROC score: 0.9879095031551818\n",
      "MSE score: 0.030642071625123318\n",
      "MAE score: 0.037821027717657774\n"
     ]
    }
   ],
   "source": [
    "print(f'AUC-ROC score: {auc_roc}')\n",
    "print(f'MSE score: {mse}')\n",
    "print(f'MAE score: {mae}')"
   ]
  },
  {
   "cell_type": "code",
   "execution_count": 25,
   "metadata": {},
   "outputs": [],
   "source": [
    "nn_model.save('trained_model_president.h5')"
   ]
  }
 ],
 "metadata": {
  "kernelspec": {
   "display_name": "ml_main",
   "language": "python",
   "name": "python3"
  },
  "language_info": {
   "codemirror_mode": {
    "name": "ipython",
    "version": 3
   },
   "file_extension": ".py",
   "mimetype": "text/x-python",
   "name": "python",
   "nbconvert_exporter": "python",
   "pygments_lexer": "ipython3",
   "version": "3.9.17"
  },
  "orig_nbformat": 4
 },
 "nbformat": 4,
 "nbformat_minor": 2
}
