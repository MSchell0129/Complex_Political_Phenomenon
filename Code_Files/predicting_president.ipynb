{
 "cells": [
  {
   "cell_type": "code",
   "execution_count": 1,
   "metadata": {},
   "outputs": [],
   "source": [
    "# Import our dependencies\n",
    "from sklearn.model_selection import train_test_split\n",
    "from sklearn.preprocessing import StandardScaler\n",
    "import pandas as pd\n",
    "import numpy as np\n",
    "import tensorflow as tf\n",
    "import keras_tuner as kt\n",
    "import keras as kr\n",
    "import matplotlib.pyplot as plt\n"
   ]
  },
  {
   "cell_type": "code",
   "execution_count": 36,
   "metadata": {},
   "outputs": [
    {
     "data": {
      "text/html": [
       "<div>\n",
       "<style scoped>\n",
       "    .dataframe tbody tr th:only-of-type {\n",
       "        vertical-align: middle;\n",
       "    }\n",
       "\n",
       "    .dataframe tbody tr th {\n",
       "        vertical-align: top;\n",
       "    }\n",
       "\n",
       "    .dataframe thead th {\n",
       "        text-align: right;\n",
       "    }\n",
       "</style>\n",
       "<table border=\"1\" class=\"dataframe\">\n",
       "  <thead>\n",
       "    <tr style=\"text-align: right;\">\n",
       "      <th></th>\n",
       "      <th>question_id</th>\n",
       "      <th>end_date</th>\n",
       "      <th>pollster</th>\n",
       "      <th>sample_size</th>\n",
       "      <th>population</th>\n",
       "      <th>politician</th>\n",
       "      <th>favorable</th>\n",
       "      <th>unfavorable</th>\n",
       "      <th>very_favorable</th>\n",
       "      <th>somewhat_favorable</th>\n",
       "      <th>somewhat_unfavorable</th>\n",
       "      <th>very_unfavorable</th>\n",
       "      <th>results</th>\n",
       "    </tr>\n",
       "  </thead>\n",
       "  <tbody>\n",
       "    <tr>\n",
       "      <th>0</th>\n",
       "      <td>178646</td>\n",
       "      <td>2023-08-08</td>\n",
       "      <td>YouGov</td>\n",
       "      <td>1500.0</td>\n",
       "      <td>a</td>\n",
       "      <td>Joe Biden</td>\n",
       "      <td>44.0</td>\n",
       "      <td>53.0</td>\n",
       "      <td>20.0</td>\n",
       "      <td>24.0</td>\n",
       "      <td>13.0</td>\n",
       "      <td>40.0</td>\n",
       "      <td>0</td>\n",
       "    </tr>\n",
       "    <tr>\n",
       "      <th>1</th>\n",
       "      <td>178647</td>\n",
       "      <td>2023-08-08</td>\n",
       "      <td>YouGov</td>\n",
       "      <td>1178.0</td>\n",
       "      <td>rv</td>\n",
       "      <td>Joe Biden</td>\n",
       "      <td>45.0</td>\n",
       "      <td>53.0</td>\n",
       "      <td>23.0</td>\n",
       "      <td>22.0</td>\n",
       "      <td>11.0</td>\n",
       "      <td>42.0</td>\n",
       "      <td>0</td>\n",
       "    </tr>\n",
       "    <tr>\n",
       "      <th>2</th>\n",
       "      <td>178439</td>\n",
       "      <td>2023-08-03</td>\n",
       "      <td>Ipsos</td>\n",
       "      <td>1076.0</td>\n",
       "      <td>a</td>\n",
       "      <td>Joe Biden</td>\n",
       "      <td>33.0</td>\n",
       "      <td>52.0</td>\n",
       "      <td>0.0</td>\n",
       "      <td>0.0</td>\n",
       "      <td>0.0</td>\n",
       "      <td>0.0</td>\n",
       "      <td>0</td>\n",
       "    </tr>\n",
       "    <tr>\n",
       "      <th>3</th>\n",
       "      <td>178683</td>\n",
       "      <td>2023-08-03</td>\n",
       "      <td>Cygnal Political</td>\n",
       "      <td>2000.0</td>\n",
       "      <td>lv</td>\n",
       "      <td>Joe Biden</td>\n",
       "      <td>45.9</td>\n",
       "      <td>51.3</td>\n",
       "      <td>25.3</td>\n",
       "      <td>20.7</td>\n",
       "      <td>12.4</td>\n",
       "      <td>38.9</td>\n",
       "      <td>0</td>\n",
       "    </tr>\n",
       "    <tr>\n",
       "      <th>4</th>\n",
       "      <td>178365</td>\n",
       "      <td>2023-08-01</td>\n",
       "      <td>YouGov</td>\n",
       "      <td>1500.0</td>\n",
       "      <td>a</td>\n",
       "      <td>Joe Biden</td>\n",
       "      <td>42.0</td>\n",
       "      <td>55.0</td>\n",
       "      <td>18.0</td>\n",
       "      <td>24.0</td>\n",
       "      <td>12.0</td>\n",
       "      <td>43.0</td>\n",
       "      <td>0</td>\n",
       "    </tr>\n",
       "  </tbody>\n",
       "</table>\n",
       "</div>"
      ],
      "text/plain": [
       "   question_id    end_date          pollster  sample_size population  \\\n",
       "0       178646  2023-08-08            YouGov       1500.0          a   \n",
       "1       178647  2023-08-08            YouGov       1178.0         rv   \n",
       "2       178439  2023-08-03             Ipsos       1076.0          a   \n",
       "3       178683  2023-08-03  Cygnal Political       2000.0         lv   \n",
       "4       178365  2023-08-01            YouGov       1500.0          a   \n",
       "\n",
       "  politician  favorable  unfavorable  very_favorable  somewhat_favorable  \\\n",
       "0  Joe Biden       44.0         53.0            20.0                24.0   \n",
       "1  Joe Biden       45.0         53.0            23.0                22.0   \n",
       "2  Joe Biden       33.0         52.0             0.0                 0.0   \n",
       "3  Joe Biden       45.9         51.3            25.3                20.7   \n",
       "4  Joe Biden       42.0         55.0            18.0                24.0   \n",
       "\n",
       "   somewhat_unfavorable  very_unfavorable  results  \n",
       "0                  13.0              40.0        0  \n",
       "1                  11.0              42.0        0  \n",
       "2                   0.0               0.0        0  \n",
       "3                  12.4              38.9        0  \n",
       "4                  12.0              43.0        0  "
      ]
     },
     "execution_count": 36,
     "metadata": {},
     "output_type": "execute_result"
    }
   ],
   "source": [
    "biden_v_trump24 = pd.read_csv('../election_resources/biden_v_trump24.csv')\n",
    "biden_v_trump24.head()"
   ]
  },
  {
   "cell_type": "code",
   "execution_count": 28,
   "metadata": {},
   "outputs": [
    {
     "data": {
      "text/plain": [
       "Index(['question_id', 'end_date', 'pollster', 'sample_size', 'population',\n",
       "       'politician', 'favorable', 'unfavorable', 'very_favorable',\n",
       "       'somewhat_favorable', 'somewhat_unfavorable', 'very_unfavorable',\n",
       "       'results'],\n",
       "      dtype='object')"
      ]
     },
     "execution_count": 28,
     "metadata": {},
     "output_type": "execute_result"
    }
   ],
   "source": [
    "biden_v_trump24.columns"
   ]
  },
  {
   "cell_type": "code",
   "execution_count": 37,
   "metadata": {},
   "outputs": [
    {
     "data": {
      "text/html": [
       "<div>\n",
       "<style scoped>\n",
       "    .dataframe tbody tr th:only-of-type {\n",
       "        vertical-align: middle;\n",
       "    }\n",
       "\n",
       "    .dataframe tbody tr th {\n",
       "        vertical-align: top;\n",
       "    }\n",
       "\n",
       "    .dataframe thead th {\n",
       "        text-align: right;\n",
       "    }\n",
       "</style>\n",
       "<table border=\"1\" class=\"dataframe\">\n",
       "  <thead>\n",
       "    <tr style=\"text-align: right;\">\n",
       "      <th></th>\n",
       "      <th>sample_size</th>\n",
       "      <th>politician</th>\n",
       "      <th>favorable</th>\n",
       "      <th>unfavorable</th>\n",
       "    </tr>\n",
       "  </thead>\n",
       "  <tbody>\n",
       "    <tr>\n",
       "      <th>0</th>\n",
       "      <td>1500.0</td>\n",
       "      <td>Joe Biden</td>\n",
       "      <td>44.0</td>\n",
       "      <td>53.0</td>\n",
       "    </tr>\n",
       "    <tr>\n",
       "      <th>1</th>\n",
       "      <td>1178.0</td>\n",
       "      <td>Joe Biden</td>\n",
       "      <td>45.0</td>\n",
       "      <td>53.0</td>\n",
       "    </tr>\n",
       "    <tr>\n",
       "      <th>2</th>\n",
       "      <td>1076.0</td>\n",
       "      <td>Joe Biden</td>\n",
       "      <td>33.0</td>\n",
       "      <td>52.0</td>\n",
       "    </tr>\n",
       "    <tr>\n",
       "      <th>3</th>\n",
       "      <td>2000.0</td>\n",
       "      <td>Joe Biden</td>\n",
       "      <td>45.9</td>\n",
       "      <td>51.3</td>\n",
       "    </tr>\n",
       "    <tr>\n",
       "      <th>4</th>\n",
       "      <td>1500.0</td>\n",
       "      <td>Joe Biden</td>\n",
       "      <td>42.0</td>\n",
       "      <td>55.0</td>\n",
       "    </tr>\n",
       "  </tbody>\n",
       "</table>\n",
       "</div>"
      ],
      "text/plain": [
       "   sample_size politician  favorable  unfavorable\n",
       "0       1500.0  Joe Biden       44.0         53.0\n",
       "1       1178.0  Joe Biden       45.0         53.0\n",
       "2       1076.0  Joe Biden       33.0         52.0\n",
       "3       2000.0  Joe Biden       45.9         51.3\n",
       "4       1500.0  Joe Biden       42.0         55.0"
      ]
     },
     "execution_count": 37,
     "metadata": {},
     "output_type": "execute_result"
    }
   ],
   "source": [
    "biden_v_trump24.drop(columns=['question_id', 'end_date', 'population', 'very_favorable',\n",
    "       'somewhat_favorable', 'somewhat_unfavorable', 'very_unfavorable', 'pollster', 'results'], inplace=True)\n",
    "\n",
    "biden_v_trump24.fillna(0, inplace=True)\n",
    "biden_v_trump24.head()"
   ]
  },
  {
   "cell_type": "code",
   "execution_count": 30,
   "metadata": {},
   "outputs": [
    {
     "data": {
      "text/plain": [
       "0       0\n",
       "1       0\n",
       "2       0\n",
       "3       0\n",
       "4       0\n",
       "       ..\n",
       "1657    0\n",
       "1658    0\n",
       "1659    0\n",
       "1660    0\n",
       "1661    0\n",
       "Name: results, Length: 1662, dtype: int64"
      ]
     },
     "execution_count": 30,
     "metadata": {},
     "output_type": "execute_result"
    }
   ],
   "source": [
    "results = biden_v_trump24['results']\n",
    "results"
   ]
  },
  {
   "cell_type": "code",
   "execution_count": 5,
   "metadata": {},
   "outputs": [],
   "source": [
    "pollster_to_replace = list(biden_v_trump24['pollster'].value_counts()[biden_v_trump24['pollster'].value_counts() < 33].index)\n",
    "for i in pollster_to_replace:\n",
    "    biden_v_trump24['pollster'] = biden_v_trump24['pollster'].replace(i, 'Other')"
   ]
  },
  {
   "cell_type": "code",
   "execution_count": 38,
   "metadata": {},
   "outputs": [
    {
     "data": {
      "text/html": [
       "<div>\n",
       "<style scoped>\n",
       "    .dataframe tbody tr th:only-of-type {\n",
       "        vertical-align: middle;\n",
       "    }\n",
       "\n",
       "    .dataframe tbody tr th {\n",
       "        vertical-align: top;\n",
       "    }\n",
       "\n",
       "    .dataframe thead th {\n",
       "        text-align: right;\n",
       "    }\n",
       "</style>\n",
       "<table border=\"1\" class=\"dataframe\">\n",
       "  <thead>\n",
       "    <tr style=\"text-align: right;\">\n",
       "      <th></th>\n",
       "      <th>sample_size</th>\n",
       "      <th>favorable</th>\n",
       "      <th>unfavorable</th>\n",
       "      <th>politician_Donald Trump</th>\n",
       "      <th>politician_Joe Biden</th>\n",
       "    </tr>\n",
       "  </thead>\n",
       "  <tbody>\n",
       "    <tr>\n",
       "      <th>0</th>\n",
       "      <td>1500.0</td>\n",
       "      <td>44.0</td>\n",
       "      <td>53.0</td>\n",
       "      <td>0.0</td>\n",
       "      <td>1.0</td>\n",
       "    </tr>\n",
       "    <tr>\n",
       "      <th>1</th>\n",
       "      <td>1178.0</td>\n",
       "      <td>45.0</td>\n",
       "      <td>53.0</td>\n",
       "      <td>0.0</td>\n",
       "      <td>1.0</td>\n",
       "    </tr>\n",
       "    <tr>\n",
       "      <th>2</th>\n",
       "      <td>1076.0</td>\n",
       "      <td>33.0</td>\n",
       "      <td>52.0</td>\n",
       "      <td>0.0</td>\n",
       "      <td>1.0</td>\n",
       "    </tr>\n",
       "    <tr>\n",
       "      <th>3</th>\n",
       "      <td>2000.0</td>\n",
       "      <td>45.9</td>\n",
       "      <td>51.3</td>\n",
       "      <td>0.0</td>\n",
       "      <td>1.0</td>\n",
       "    </tr>\n",
       "    <tr>\n",
       "      <th>4</th>\n",
       "      <td>1500.0</td>\n",
       "      <td>42.0</td>\n",
       "      <td>55.0</td>\n",
       "      <td>0.0</td>\n",
       "      <td>1.0</td>\n",
       "    </tr>\n",
       "  </tbody>\n",
       "</table>\n",
       "</div>"
      ],
      "text/plain": [
       "   sample_size  favorable  unfavorable  politician_Donald Trump  \\\n",
       "0       1500.0       44.0         53.0                      0.0   \n",
       "1       1178.0       45.0         53.0                      0.0   \n",
       "2       1076.0       33.0         52.0                      0.0   \n",
       "3       2000.0       45.9         51.3                      0.0   \n",
       "4       1500.0       42.0         55.0                      0.0   \n",
       "\n",
       "   politician_Joe Biden  \n",
       "0                   1.0  \n",
       "1                   1.0  \n",
       "2                   1.0  \n",
       "3                   1.0  \n",
       "4                   1.0  "
      ]
     },
     "execution_count": 38,
     "metadata": {},
     "output_type": "execute_result"
    }
   ],
   "source": [
    "biden_v_trump24 = pd.get_dummies(biden_v_trump24, dtype=float)\n",
    "biden_v_trump24.head()"
   ]
  },
  {
   "cell_type": "code",
   "execution_count": 39,
   "metadata": {},
   "outputs": [
    {
     "data": {
      "text/plain": [
       "(1662, 5)"
      ]
     },
     "execution_count": 39,
     "metadata": {},
     "output_type": "execute_result"
    }
   ],
   "source": [
    "biden_v_trump24.shape"
   ]
  },
  {
   "cell_type": "code",
   "execution_count": 40,
   "metadata": {},
   "outputs": [
    {
     "name": "stdout",
     "output_type": "stream",
     "text": [
      "Model: \"sequential_1\"\n",
      "_________________________________________________________________\n",
      " Layer (type)                Output Shape              Param #   \n",
      "=================================================================\n",
      " dense_8 (Dense)             (None, 13)                78        \n",
      "                                                                 \n",
      " dense_9 (Dense)             (None, 1)                 14        \n",
      "                                                                 \n",
      " dense_10 (Dense)            (None, 1)                 2         \n",
      "                                                                 \n",
      " dense_11 (Dense)            (None, 1)                 2         \n",
      "                                                                 \n",
      " dense_12 (Dense)            (None, 1)                 2         \n",
      "                                                                 \n",
      " dense_13 (Dense)            (None, 1)                 2         \n",
      "                                                                 \n",
      "=================================================================\n",
      "Total params: 100\n",
      "Trainable params: 100\n",
      "Non-trainable params: 0\n",
      "_________________________________________________________________\n"
     ]
    }
   ],
   "source": [
    "nn_model = tf.keras.models.load_model('trained_model_president.h5')\n",
    "nn_model.summary()"
   ]
  },
  {
   "cell_type": "code",
   "execution_count": 41,
   "metadata": {},
   "outputs": [],
   "source": [
    "scaler = StandardScaler()\n",
    "X_scaler = scaler.fit(biden_v_trump24)\n",
    "X_scaled = X_scaler.transform(biden_v_trump24)\n"
   ]
  },
  {
   "cell_type": "code",
   "execution_count": 46,
   "metadata": {},
   "outputs": [
    {
     "data": {
      "text/plain": [
       "array([[-0.12783023,  0.13100861,  0.10212651, -1.00240964,  1.00240964],\n",
       "       [-0.33224768,  0.3187091 ,  0.10212651, -1.00240964,  1.00240964],\n",
       "       [-0.39700104, -1.93369671, -0.08158846, -1.00240964,  1.00240964],\n",
       "       ...,\n",
       "       [ 0.31655553, -0.24439235,  0.28584147,  0.99759615, -0.99759615],\n",
       "       [-0.12783023,  0.3187091 ,  0.28584147,  0.99759615, -0.99759615],\n",
       "       [ 0.31655553, -0.43209284,  0.28584147,  0.99759615, -0.99759615]])"
      ]
     },
     "execution_count": 46,
     "metadata": {},
     "output_type": "execute_result"
    }
   ],
   "source": [
    "X_scaled"
   ]
  },
  {
   "cell_type": "code",
   "execution_count": 42,
   "metadata": {},
   "outputs": [
    {
     "name": "stdout",
     "output_type": "stream",
     "text": [
      "52/52 [==============================] - 0s 2ms/step\n"
     ]
    }
   ],
   "source": [
    "predictions = nn_model.predict(X_scaled)"
   ]
  },
  {
   "cell_type": "code",
   "execution_count": 43,
   "metadata": {},
   "outputs": [
    {
     "data": {
      "text/plain": [
       "array([[0.51173365],\n",
       "       [0.512522  ],\n",
       "       [0.49214295],\n",
       "       ...,\n",
       "       [0.43396044],\n",
       "       [0.43636668],\n",
       "       [0.4333409 ]], dtype=float32)"
      ]
     },
     "execution_count": 43,
     "metadata": {},
     "output_type": "execute_result"
    }
   ],
   "source": [
    "predictions"
   ]
  },
  {
   "cell_type": "code",
   "execution_count": 44,
   "metadata": {},
   "outputs": [],
   "source": [
    "predictions_df = pd.DataFrame(predictions, columns=['predictions'])"
   ]
  },
  {
   "cell_type": "code",
   "execution_count": 45,
   "metadata": {},
   "outputs": [
    {
     "data": {
      "text/html": [
       "<div>\n",
       "<style scoped>\n",
       "    .dataframe tbody tr th:only-of-type {\n",
       "        vertical-align: middle;\n",
       "    }\n",
       "\n",
       "    .dataframe tbody tr th {\n",
       "        vertical-align: top;\n",
       "    }\n",
       "\n",
       "    .dataframe thead th {\n",
       "        text-align: right;\n",
       "    }\n",
       "</style>\n",
       "<table border=\"1\" class=\"dataframe\">\n",
       "  <thead>\n",
       "    <tr style=\"text-align: right;\">\n",
       "      <th></th>\n",
       "      <th>predictions</th>\n",
       "      <th>results</th>\n",
       "    </tr>\n",
       "  </thead>\n",
       "  <tbody>\n",
       "    <tr>\n",
       "      <th>0</th>\n",
       "      <td>0.511734</td>\n",
       "      <td>0</td>\n",
       "    </tr>\n",
       "    <tr>\n",
       "      <th>1</th>\n",
       "      <td>0.512522</td>\n",
       "      <td>0</td>\n",
       "    </tr>\n",
       "    <tr>\n",
       "      <th>2</th>\n",
       "      <td>0.492143</td>\n",
       "      <td>0</td>\n",
       "    </tr>\n",
       "    <tr>\n",
       "      <th>3</th>\n",
       "      <td>0.513787</td>\n",
       "      <td>0</td>\n",
       "    </tr>\n",
       "    <tr>\n",
       "      <th>4</th>\n",
       "      <td>0.506966</td>\n",
       "      <td>0</td>\n",
       "    </tr>\n",
       "  </tbody>\n",
       "</table>\n",
       "</div>"
      ],
      "text/plain": [
       "   predictions  results\n",
       "0     0.511734        0\n",
       "1     0.512522        0\n",
       "2     0.492143        0\n",
       "3     0.513787        0\n",
       "4     0.506966        0"
      ]
     },
     "execution_count": 45,
     "metadata": {},
     "output_type": "execute_result"
    }
   ],
   "source": [
    "predictions_df['results']=results\n",
    "predictions_df.head()"
   ]
  },
  {
   "cell_type": "code",
   "execution_count": null,
   "metadata": {},
   "outputs": [],
   "source": []
  },
  {
   "cell_type": "code",
   "execution_count": 16,
   "metadata": {},
   "outputs": [],
   "source": [
    "predictions_df.to_csv('predictions.csv', index=False)"
   ]
  },
  {
   "cell_type": "code",
   "execution_count": 17,
   "metadata": {},
   "outputs": [
    {
     "data": {
      "text/html": [
       "<div>\n",
       "<style scoped>\n",
       "    .dataframe tbody tr th:only-of-type {\n",
       "        vertical-align: middle;\n",
       "    }\n",
       "\n",
       "    .dataframe tbody tr th {\n",
       "        vertical-align: top;\n",
       "    }\n",
       "\n",
       "    .dataframe thead th {\n",
       "        text-align: right;\n",
       "    }\n",
       "</style>\n",
       "<table border=\"1\" class=\"dataframe\">\n",
       "  <thead>\n",
       "    <tr style=\"text-align: right;\">\n",
       "      <th></th>\n",
       "      <th>predictions</th>\n",
       "      <th>results</th>\n",
       "    </tr>\n",
       "  </thead>\n",
       "  <tbody>\n",
       "    <tr>\n",
       "      <th>0</th>\n",
       "      <td>0.997332</td>\n",
       "      <td>0</td>\n",
       "    </tr>\n",
       "    <tr>\n",
       "      <th>1</th>\n",
       "      <td>0.997940</td>\n",
       "      <td>0</td>\n",
       "    </tr>\n",
       "    <tr>\n",
       "      <th>2</th>\n",
       "      <td>0.998225</td>\n",
       "      <td>0</td>\n",
       "    </tr>\n",
       "    <tr>\n",
       "      <th>3</th>\n",
       "      <td>0.989938</td>\n",
       "      <td>0</td>\n",
       "    </tr>\n",
       "    <tr>\n",
       "      <th>4</th>\n",
       "      <td>0.995206</td>\n",
       "      <td>0</td>\n",
       "    </tr>\n",
       "  </tbody>\n",
       "</table>\n",
       "</div>"
      ],
      "text/plain": [
       "   predictions  results\n",
       "0     0.997332        0\n",
       "1     0.997940        0\n",
       "2     0.998225        0\n",
       "3     0.989938        0\n",
       "4     0.995206        0"
      ]
     },
     "execution_count": 17,
     "metadata": {},
     "output_type": "execute_result"
    }
   ],
   "source": [
    "predictions_df.head()"
   ]
  }
 ],
 "metadata": {
  "kernelspec": {
   "display_name": "ml_main",
   "language": "python",
   "name": "python3"
  },
  "language_info": {
   "codemirror_mode": {
    "name": "ipython",
    "version": 3
   },
   "file_extension": ".py",
   "mimetype": "text/x-python",
   "name": "python",
   "nbconvert_exporter": "python",
   "pygments_lexer": "ipython3",
   "version": "3.9.17"
  },
  "orig_nbformat": 4
 },
 "nbformat": 4,
 "nbformat_minor": 2
}
